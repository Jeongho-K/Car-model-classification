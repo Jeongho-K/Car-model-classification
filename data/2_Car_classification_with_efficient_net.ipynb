{
  "nbformat": 4,
  "nbformat_minor": 0,
  "metadata": {
    "colab": {
      "provenance": [],
      "collapsed_sections": [
        "R4ZilDbyBh5W",
        "5om0TLyvRZaT",
        "4gRv7SwYqT9f",
        "ogB16XX3eXaN",
        "j9O9mCbbVPWk"
      ],
      "authorship_tag": "ABX9TyMENIwO/IB+82xY0ijSniro",
      "include_colab_link": true
    },
    "kernelspec": {
      "name": "python3",
      "display_name": "Python 3"
    },
    "language_info": {
      "name": "python"
    },
    "gpuClass": "standard",
    "accelerator": "GPU"
  },
  "cells": [
    {
      "cell_type": "markdown",
      "metadata": {
        "id": "view-in-github",
        "colab_type": "text"
      },
      "source": [
        "<a href=\"https://colab.research.google.com/github/Jeongho-K/Car-model-classification/blob/main/data/2_Car_classification_with_efficient_net.ipynb\" target=\"_parent\"><img src=\"https://colab.research.google.com/assets/colab-badge.svg\" alt=\"Open In Colab\"/></a>"
      ]
    },
    {
      "cell_type": "markdown",
      "metadata": {
        "id": "Bv4F7HCHL-go"
      },
      "source": [
        "# Car classification"
      ]
    },
    {
      "cell_type": "markdown",
      "source": [
        "data: https://aihub.or.kr/aihubdata/data/view.do?currMenu=115&topMenu=100&aihubDataSe=realm&dataSetSn=554"
      ],
      "metadata": {
        "id": "clAsecM5MVZc"
      }
    },
    {
      "cell_type": "code",
      "source": [
        "from google.colab import drive\n",
        "drive.mount('/content/drive')"
      ],
      "metadata": {
        "id": "41JnLkOgTgIZ",
        "colab": {
          "base_uri": "https://localhost:8080/"
        },
        "outputId": "4f2ff72d-bcb7-4cd9-9554-3c281a4c0b8e"
      },
      "execution_count": null,
      "outputs": [
        {
          "output_type": "stream",
          "name": "stdout",
          "text": [
            "Mounted at /content/drive\n"
          ]
        }
      ]
    },
    {
      "cell_type": "code",
      "source": [
        "import torch"
      ],
      "metadata": {
        "id": "d3imibNHdEe1"
      },
      "execution_count": null,
      "outputs": []
    },
    {
      "cell_type": "code",
      "source": [
        "device = torch.device('cuda' if torch.cuda.is_available() else 'cpu')\n",
        "print(device)"
      ],
      "metadata": {
        "colab": {
          "base_uri": "https://localhost:8080/"
        },
        "id": "vYIRzQ1PdDb6",
        "outputId": "86090be5-6750-4088-e17a-7d4b3de92e8a"
      },
      "execution_count": null,
      "outputs": [
        {
          "output_type": "stream",
          "name": "stdout",
          "text": [
            "cuda\n"
          ]
        }
      ]
    },
    {
      "cell_type": "markdown",
      "source": [
        "## 차량 방향 확인할 이미지 리스트 생성"
      ],
      "metadata": {
        "id": "R4ZilDbyBh5W"
      }
    },
    {
      "cell_type": "code",
      "source": [
        "import shutil\n",
        "import os\n",
        "import cv2\n",
        "import matplotlib.pyplot as plt\n",
        "import glob"
      ],
      "metadata": {
        "id": "OtVYP1jueITN"
      },
      "execution_count": null,
      "outputs": []
    },
    {
      "cell_type": "code",
      "source": [
        "def make_img_list(BASE_FOLDER, OUTPUT):\n",
        "    f_list = []\n",
        "    for model_name in os.listdir(BASE_FOLDER):\n",
        "        model_path = os.path.join(BASE_FOLDER, model_name)\n",
        "        for detail_forder in os.listdir(model_path):\n",
        "            folder_path = os.path.join(model_path, detail_forder + '/*')\n",
        "            f_list += glob.glob(folder_path)\n",
        "\n",
        "    with open(OUTPUT, 'w', encoding=\"UTF8\") as f:\n",
        "        for line in f_list:\n",
        "            f.write(line)\n",
        "            f.write('\\n')"
      ],
      "metadata": {
        "id": "vSOKS_w7m_w3"
      },
      "execution_count": null,
      "outputs": []
    },
    {
      "cell_type": "code",
      "source": [
        "train_BASE_FOLDER = r\"/content/drive/MyDrive/Car-model-classification/data/1.Training/원천데이터/HY_현대\"\n",
        "train_OUTPUT = '/content/drive/MyDrive/Car-model-classification/data/train_image_list.txt'\n",
        "\n",
        "make_img_list(train_BASE_FOLDER, train_OUTPUT)"
      ],
      "metadata": {
        "id": "ZyjlPrj3iyej"
      },
      "execution_count": null,
      "outputs": []
    },
    {
      "cell_type": "code",
      "source": [
        "val_BASE_FOLDER = r\"/content/drive/MyDrive/Car-model-classification/data/2.Validation/원천데이터/HY_현대\"\n",
        "val_OUTPUT = '/content/drive/MyDrive/Car-model-classification/data/val_image_list.txt'\n",
        "\n",
        "make_img_list(val_BASE_FOLDER, val_OUTPUT)"
      ],
      "metadata": {
        "id": "HfNWt3winhlT"
      },
      "execution_count": null,
      "outputs": []
    },
    {
      "cell_type": "markdown",
      "source": [
        "## yolov4 custom(차량 앞, 뒤, 옆 분류)"
      ],
      "metadata": {
        "id": "5om0TLyvRZaT"
      }
    },
    {
      "cell_type": "code",
      "source": [
        "!git clone https://github.com/AlexeyAB/darknet"
      ],
      "metadata": {
        "id": "_P8L0bVgdPH3",
        "colab": {
          "base_uri": "https://localhost:8080/"
        },
        "outputId": "1a127846-5b44-4ff7-cdc0-fb608f95c8e6"
      },
      "execution_count": null,
      "outputs": [
        {
          "output_type": "stream",
          "name": "stdout",
          "text": [
            "Cloning into 'darknet'...\n",
            "remote: Enumerating objects: 15502, done.\u001b[K\n",
            "remote: Total 15502 (delta 0), reused 0 (delta 0), pack-reused 15502\u001b[K\n",
            "Receiving objects: 100% (15502/15502), 14.17 MiB | 15.10 MiB/s, done.\n",
            "Resolving deltas: 100% (10405/10405), done.\n"
          ]
        }
      ]
    },
    {
      "cell_type": "markdown",
      "source": [
        "- darknet모델내 makefile파일 내용 수정  \n",
        "- GPU=1, CUDNN=1, OPENCV=1"
      ],
      "metadata": {
        "id": "4Y9uXjMUvcAc"
      }
    },
    {
      "cell_type": "code",
      "source": [
        "import os\n",
        "path = '/content/darknet'\n",
        "os.chdir(path)\n",
        "!make"
      ],
      "metadata": {
        "id": "CkO_XOlRuL8_"
      },
      "execution_count": null,
      "outputs": []
    },
    {
      "cell_type": "code",
      "source": [
        "# verify installation\n",
        "!./darknet"
      ],
      "metadata": {
        "colab": {
          "base_uri": "https://localhost:8080/"
        },
        "id": "bIIGj6jbwHWz",
        "outputId": "3f5aafc4-7d69-4562-9d43-21619acabab8"
      },
      "execution_count": null,
      "outputs": [
        {
          "output_type": "stream",
          "name": "stdout",
          "text": [
            "usage: ./darknet <function>\n"
          ]
        }
      ]
    },
    {
      "cell_type": "code",
      "source": [
        "# pretrained weights\n",
        "import shutil\n",
        "shutil.copy('/content/drive/MyDrive/Car-model-classification/models/YOLOv4_사전학습/yolov4-car.cfg', 'cfg/yolov4-car.cfg')\n",
        "shutil.copy('/content/drive/MyDrive/Car-model-classification/models/YOLOv4_사전학습/yolov4-car_best.weights', 'cfg/yolov4-car_best.weights')\n",
        "shutil.copy('/content/drive/MyDrive/Car-model-classification/models/YOLOv4_사전학습/car.names', 'data/car.names')\n",
        "shutil.copy('/content/drive/MyDrive/Car-model-classification/models/YOLOv4_사전학습/car.data', 'data/car.data')"
      ],
      "metadata": {
        "colab": {
          "base_uri": "https://localhost:8080/",
          "height": 36
        },
        "id": "9tXKEC-meMMR",
        "outputId": "5318745e-0078-4d9a-eee3-ccd545170368"
      },
      "execution_count": null,
      "outputs": [
        {
          "output_type": "execute_result",
          "data": {
            "text/plain": [
              "'data/car.data'"
            ],
            "application/vnd.google.colaboratory.intrinsic+json": {
              "type": "string"
            }
          },
          "metadata": {},
          "execution_count": 10
        }
      ]
    },
    {
      "cell_type": "code",
      "source": [
        "!./darknet detector test data/car.data cfg/yolov4-car.cfg cfg/yolov4-car_best.weights -dont_show -out /content/drive/MyDrive/Car-model-classification/data/train_direction_results.json < /content/drive/MyDrive/Car-model-classification/data/train_image_list.txt"
      ],
      "metadata": {
        "id": "BnvFzRPghP7Y"
      },
      "execution_count": null,
      "outputs": []
    },
    {
      "cell_type": "code",
      "source": [
        "!./darknet detector test data/car.data cfg/yolov4-car.cfg cfg/yolov4-car_best.weights -dont_show -out /content/drive/MyDrive/Car-model-classification/data/val_direction_results.json < /content/drive/MyDrive/Car-model-classification/data/val_image_list.txt"
      ],
      "metadata": {
        "id": "ZTx48SmToP6i"
      },
      "execution_count": null,
      "outputs": []
    },
    {
      "cell_type": "markdown",
      "source": [
        "### 차량 front, side, back label\n",
        "yolo모델로 생성된 direction_results.json으로 방향 class별 3개 라벨 데이터 생성"
      ],
      "metadata": {
        "id": "QzM4L_J3lKNS"
      }
    },
    {
      "cell_type": "markdown",
      "source": [
        "## 이미지 crop"
      ],
      "metadata": {
        "id": "bVhTSziOTuvC"
      }
    },
    {
      "cell_type": "code",
      "source": [
        "import os\n",
        "import json\n",
        "import cv2\n",
        "import numpy as np\n",
        "import shutil"
      ],
      "metadata": {
        "id": "Nz4PTT4JQpYC"
      },
      "execution_count": null,
      "outputs": []
    },
    {
      "cell_type": "code",
      "source": [
        "# 텍스트 읽기\n",
        "def read_text(file_path, encoding=\"utf-8\"):\n",
        "    text = None\n",
        "    with open(file_path, 'r', encoding=encoding) as f:\n",
        "        text = f.read()\n",
        "    return text"
      ],
      "metadata": {
        "id": "H0MqjZGOOkX4"
      },
      "execution_count": null,
      "outputs": []
    },
    {
      "cell_type": "code",
      "source": [
        "def load_json(json_path, encoding=\"utf-8\"):\n",
        "    return json.loads(read_text(json_path, encoding))"
      ],
      "metadata": {
        "id": "_v0PbopnlkPp"
      },
      "execution_count": null,
      "outputs": []
    },
    {
      "cell_type": "code",
      "source": [
        "def check_folder(folder_path):\n",
        "    if not os.path.exists(folder_path):\n",
        "        os.makedirs(folder_path)"
      ],
      "metadata": {
        "id": "jLKkP7h8f5wB"
      },
      "execution_count": null,
      "outputs": []
    },
    {
      "cell_type": "code",
      "source": [
        "# box 정보에 대해 margin 값만큼 확장함\n",
        "def expand_box(box, margin, img_width = None, img_height = None):\n",
        "    x = box[\"left\"]\n",
        "    y = box[\"top\"]\n",
        "    w = box[\"width\"]\n",
        "    h = box[\"height\"]\n",
        "\n",
        "    x = x - margin\n",
        "    x = max(x, 0)\n",
        "    y = y - margin\n",
        "    y = max(y, 0)\n",
        "\n",
        "    w = w + 2*margin\n",
        "    if img_width and x + w > img_width:\n",
        "        w = img_width - x\n",
        "    \n",
        "    h = h + 2*margin\n",
        "    if img_height and y + h > img_height:\n",
        "        h = img_height - y\n",
        "\n",
        "    new_box = {\n",
        "        \"left\": x, \n",
        "        \"top\": y,\n",
        "        \"width\": w,\n",
        "        \"height\": h\n",
        "    }\n",
        "\n",
        "    return new_box"
      ],
      "metadata": {
        "id": "F82HuGMBi8gY"
      },
      "execution_count": null,
      "outputs": []
    },
    {
      "cell_type": "code",
      "source": [
        "# 이미지 crop\n",
        "def crop_image(image_np, box, margin = 0):\n",
        "    if margin > 0:\n",
        "        box = expand_box(box, margin)\n",
        "       \n",
        "    x1 = box[\"left\"]\n",
        "    y1 = box[\"top\"]\n",
        "    x2 = box[\"left\"] + box[\"width\"]\n",
        "    y2 = box[\"top\"] + box[\"height\"]\n",
        "    return image_np[y1:y2, x1:x2]"
      ],
      "metadata": {
        "id": "5Hz8t5q7UHgd"
      },
      "execution_count": null,
      "outputs": []
    },
    {
      "cell_type": "code",
      "source": [
        "# 한글 경로 지원\n",
        "def imread( file_path ) :\n",
        "    stream = open( file_path.encode(\"utf-8\") , \"rb\")\n",
        "    bytes = bytearray(stream.read())\n",
        "    np_array = np.asarray(bytes, dtype=np.uint8)\n",
        "    return cv2.imdecode(np_array , cv2.IMREAD_UNCHANGED)"
      ],
      "metadata": {
        "id": "Wu5mdqi4VvZn"
      },
      "execution_count": null,
      "outputs": []
    },
    {
      "cell_type": "code",
      "source": [
        "# 한글 경로 지원\n",
        "def imwrite(file_path, img, params=None):\n",
        "    try: \n",
        "        ext = os.path.splitext(file_path)[1]\n",
        "        result, n = cv2.imencode(ext, img, params)\n",
        "        if result: \n",
        "            with open(file_path, mode='w+b') as f:\n",
        "                n.tofile(f)\n",
        "                return True\n",
        "        else: \n",
        "            return False \n",
        "    except Exception as e: \n",
        "        print(e)\n",
        "        return False"
      ],
      "metadata": {
        "id": "-oTaG6nuXvRJ"
      },
      "execution_count": null,
      "outputs": []
    },
    {
      "cell_type": "code",
      "source": [
        "# 전체 이미지 bbox가 있는 경우 crop해서 방향정보에 따라 저장 \n",
        "def crop_store_by_direction(direction_path, BASE_OUTPUT_FOLDER):\n",
        "    dir_json = load_json(direction_path)\n",
        "\n",
        "    for dir in dir_json:\n",
        "\n",
        "        if len(dir['objects']) > 0:\n",
        "            confidence = [x['confidence'] for x in dir['objects']]\n",
        "            best_idx = confidence.index(max(confidence)) # 가장 신뢰도 높은 분류 class\n",
        "\n",
        "            img_path = dir['filename']\n",
        "            tmp_list = img_path.split('/')\n",
        "            tmp_list[7] = '라벨링데이터'\n",
        "            img_name = tmp_list[11]\n",
        "            json_name = img_name.split('.')[0] + '.json'\n",
        "            json_path = '/'.join(tmp_list[:-1]) + '/' + json_name\n",
        "\n",
        "            img_json = load_json(json_path)\n",
        "            object_list = img_json[\"learningDataInfo\"][\"objects\"]\n",
        "            \n",
        "            \n",
        "\n",
        "            for i in range(len(object_list)):\n",
        "                if img_json[\"learningDataInfo\"][\"objects\"][i][\"classId\"] == 'P00.차량전체':\n",
        "                    # 차량 전체 bbox\n",
        "                    box = {\n",
        "                            \"left\": int(img_json[\"learningDataInfo\"][\"objects\"][i][\"left\"]),\n",
        "                            \"top\": int(img_json[\"learningDataInfo\"][\"objects\"][i][\"top\"]),\n",
        "                            \"width\": int(img_json[\"learningDataInfo\"][\"objects\"][i][\"width\"]),\n",
        "                            \"height\": int(img_json[\"learningDataInfo\"][\"objects\"][i][\"height\"])\n",
        "                            }\n",
        "\n",
        "                    # 이미지 크롭\n",
        "                    img = imread(img_path)\n",
        "                    cropped_img = crop_image(img, box, 10)\n",
        "\n",
        "                    # 방향 확인 후 해당 폴더에 저장\n",
        "                    direction = dir['objects'][best_idx]['name']\n",
        "                    output_folder = os.path.join(BASE_OUTPUT_FOLDER, direction)\n",
        "                    check_folder(output_folder)\n",
        "                    output_path = os.path.join(output_folder, str(img_name))\n",
        "\n",
        "                    imwrite(output_path, cropped_img)\n",
        "\n",
        "                    # 라벨링 데이터도 같이 이동\n",
        "                    shutil.copyfile(json_path, os.path.join(output_folder, str(json_name)))\n",
        "\n",
        "        print(dir['frame_id'])"
      ],
      "metadata": {
        "id": "fQ7u8Rb8kcJq"
      },
      "execution_count": null,
      "outputs": []
    },
    {
      "cell_type": "code",
      "source": [
        "# train & validation img\n",
        "train_val_direction_path = '/content/drive/MyDrive/Car-model-classification/data/train_direction_results.json'\n",
        "train_val_output_folder = '/content/drive/MyDrive/Car-model-classification/data/cropimg/train_val'\n",
        "\n",
        "crop_store_by_direction(train_val_direction_path, train_val_output_folder)"
      ],
      "metadata": {
        "id": "1CAxj1FJlUUU"
      },
      "execution_count": null,
      "outputs": []
    },
    {
      "cell_type": "code",
      "source": [
        "# test img\n",
        "val_direction_path = '/content/drive/MyDrive/Car-model-classification/data/val_direction_results.json'\n",
        "val_output_folder = '/content/drive/MyDrive/Car-model-classification/data/cropimg/test'\n",
        "\n",
        "crop_store_by_direction(val_direction_path, val_output_folder)"
      ],
      "metadata": {
        "id": "C6zBPV3IlZZ2"
      },
      "execution_count": null,
      "outputs": []
    }
  ]
}
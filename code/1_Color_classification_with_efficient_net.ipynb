{
  "cells": [
    {
      "cell_type": "markdown",
      "metadata": {
        "id": "view-in-github",
        "colab_type": "text"
      },
      "source": [
        "<a href=\"https://colab.research.google.com/github/Jeongho-K/Car-model-classification/blob/main/code/1_Color_classification_with_efficient_net.ipynb\" target=\"_parent\"><img src=\"https://colab.research.google.com/assets/colab-badge.svg\" alt=\"Open In Colab\"/></a>"
      ]
    },
    {
      "cell_type": "markdown",
      "metadata": {
        "id": "Bv4F7HCHL-go"
      },
      "source": [
        "# Color classification"
      ]
    },
    {
      "cell_type": "markdown",
      "source": [
        "data: https://aihub.or.kr/aihubdata/data/view.do?currMenu=115&topMenu=100&aihubDataSe=realm&dataSetSn=554"
      ],
      "metadata": {
        "id": "clAsecM5MVZc"
      }
    },
    {
      "cell_type": "markdown",
      "metadata": {
        "id": "O1S8AiDnL_-p"
      },
      "source": [
        "## 코랩 내 zip 파일 압축 풀기"
      ]
    },
    {
      "cell_type": "code",
      "execution_count": null,
      "metadata": {
        "colab": {
          "background_save": true
        },
        "id": "FC2EmwUBW0sw"
      },
      "outputs": [],
      "source": [
        "# 구글 마운트\n",
        "from google.colab import drive\n",
        "drive.mount('/content/drive')"
      ]
    },
    {
      "cell_type": "code",
      "source": [
        "%cd /content/drive/MyDrive/Car-model-classification/data/1.Training/라벨링데이터\n",
        "!unzip -qq 'TL1.zip'\n",
        "!unzip -qq 'TL2.zip'\n",
        "!unzip -qq 'TL3.zip'\n",
        "!unzip -qq 'TL4.zip'"
      ],
      "metadata": {
        "id": "wDGDQI7rvaOD"
      },
      "execution_count": null,
      "outputs": []
    },
    {
      "cell_type": "code",
      "source": [
        "%cd /content/drive/MyDrive/Car-model-classification/data/1.Training/원천데이터\n",
        "!unzip -qq 'TS1.zip'\n",
        "!unzip -qq 'TS2.zip'\n",
        "!unzip -qq 'TS3.zip'\n",
        "!unzip -qq 'TS4.zip'"
      ],
      "metadata": {
        "colab": {
          "base_uri": "https://localhost:8080/"
        },
        "id": "J3uaiQnC2NxM",
        "outputId": "1ffce8b1-71cc-444a-cdea-31a086d8ed2d"
      },
      "execution_count": null,
      "outputs": [
        {
          "output_type": "stream",
          "name": "stdout",
          "text": [
            "/content/drive/MyDrive/Car-model-classification/data/1.Training/원천데이터\n"
          ]
        }
      ]
    },
    {
      "cell_type": "code",
      "source": [
        "%cd /content/drive/MyDrive/Car-model-classification/data/2.Validation/라벨링데이터\n",
        "!unzip -qq 'VL1.zip'\n",
        "!unzip -qq 'VL2.zip'\n",
        "!unzip -qq 'VL3.zip'\n",
        "!unzip -qq 'VL4.zip'"
      ],
      "metadata": {
        "colab": {
          "base_uri": "https://localhost:8080/"
        },
        "id": "c1IhARvU2YX8",
        "outputId": "b0548ea2-dda1-4b1c-d5f0-3145b3d0ba1c"
      },
      "execution_count": null,
      "outputs": [
        {
          "output_type": "stream",
          "name": "stdout",
          "text": [
            "/content/drive/MyDrive/Car-model-classification/data/2.Validation/라벨링데이터\n"
          ]
        }
      ]
    },
    {
      "cell_type": "code",
      "source": [
        "%cd /content/drive/MyDrive/Car-model-classification/data/2.Validation/원천데이터\n",
        "!unzip -qq 'VS1.zip'\n",
        "!unzip -qq 'VS2.zip'\n",
        "!unzip -qq 'VS3.zip' \n",
        "!unzip -qq 'VS4.zip'"
      ],
      "metadata": {
        "colab": {
          "base_uri": "https://localhost:8080/"
        },
        "id": "LIaAcbfs27YU",
        "outputId": "0787e09e-47bc-4165-b7d2-a9768ca55c95"
      },
      "execution_count": null,
      "outputs": [
        {
          "output_type": "stream",
          "name": "stdout",
          "text": [
            "/content/drive/MyDrive/Car-model-classification/data/2.Validation/원천데이터\n"
          ]
        }
      ]
    },
    {
      "cell_type": "markdown",
      "source": [
        "## 데이터 전처리"
      ],
      "metadata": {
        "id": "5om0TLyvRZaT"
      }
    },
    {
      "cell_type": "code",
      "source": [
        "%cd /content/drive/MyDrive/Car-model-classification"
      ],
      "metadata": {
        "colab": {
          "base_uri": "https://localhost:8080/"
        },
        "id": "ksoqS42lXlBq",
        "outputId": "bde23c0d-e953-43aa-e38f-02c7512eac3f"
      },
      "execution_count": null,
      "outputs": [
        {
          "output_type": "stream",
          "name": "stdout",
          "text": [
            "/content/drive/MyDrive/Car-model-classification\n"
          ]
        }
      ]
    },
    {
      "cell_type": "markdown",
      "source": [
        "### 이미지 crop"
      ],
      "metadata": {
        "id": "bVhTSziOTuvC"
      }
    },
    {
      "cell_type": "code",
      "source": [
        "import os\n",
        "import json\n",
        "import numpy as np\n",
        "import cv2"
      ],
      "metadata": {
        "id": "5X0ThPsqg7e6"
      },
      "execution_count": null,
      "outputs": []
    },
    {
      "cell_type": "code",
      "source": [
        "# 텍스트 읽기\n",
        "def read_text(file_path, encoding=\"utf-8\"):\n",
        "    text = None\n",
        "    with open(file_path, 'r', encoding=encoding) as f:\n",
        "        text = f.read()\n",
        "    return text"
      ],
      "metadata": {
        "id": "kQskW3DZacE7"
      },
      "execution_count": null,
      "outputs": []
    },
    {
      "cell_type": "code",
      "source": [
        "def load_json(json_path, encoding=\"utf-8\"):\n",
        "    return json.loads(read_text(json_path, encoding))"
      ],
      "metadata": {
        "id": "bgvSJphFaQYk"
      },
      "execution_count": null,
      "outputs": []
    },
    {
      "cell_type": "code",
      "source": [
        "def check_folder(folder_path):\n",
        "    if not os.path.exists(folder_path):\n",
        "        os.makedirs(folder_path)"
      ],
      "metadata": {
        "id": "jLKkP7h8f5wB"
      },
      "execution_count": null,
      "outputs": []
    },
    {
      "cell_type": "code",
      "source": [
        "# box 정보에 대해 margin 값만큼 확장함\n",
        "def expand_box(box, margin, img_width = None, img_height = None):\n",
        "    x = box[\"left\"]\n",
        "    y = box[\"top\"]\n",
        "    w = box[\"width\"]\n",
        "    h = box[\"height\"]\n",
        "\n",
        "    x = x - margin\n",
        "    x = max(x, 0)\n",
        "    y = y - margin\n",
        "    y = max(y, 0)\n",
        "\n",
        "    w = w + 2*margin\n",
        "    if img_width and x + w > img_width:\n",
        "        w = img_width - x\n",
        "    \n",
        "    h = h + 2*margin\n",
        "    if img_height and y + h > img_height:\n",
        "        h = img_height - y\n",
        "\n",
        "    new_box = {\n",
        "        \"left\": x, \n",
        "        \"top\": y,\n",
        "        \"width\": w,\n",
        "        \"height\": h\n",
        "    }\n",
        "\n",
        "    return new_box"
      ],
      "metadata": {
        "id": "F82HuGMBi8gY"
      },
      "execution_count": null,
      "outputs": []
    },
    {
      "cell_type": "code",
      "source": [
        "# 이미지 crop\n",
        "def crop_image(image_np, box, margin = 0):\n",
        "    if margin > 0:\n",
        "        box = expand_box(box, margin)\n",
        "       \n",
        "    x1 = box[\"left\"]\n",
        "    y1 = box[\"top\"]\n",
        "    x2 = box[\"left\"] + box[\"width\"]\n",
        "    y2 = box[\"top\"] + box[\"height\"]\n",
        "    return image_np[y1:y2, x1:x2]"
      ],
      "metadata": {
        "id": "5Hz8t5q7UHgd"
      },
      "execution_count": null,
      "outputs": []
    },
    {
      "cell_type": "code",
      "source": [
        "# 한글 경로 지원\n",
        "def imread( file_path ) :\n",
        "    stream = open( file_path.encode(\"utf-8\") , \"rb\")\n",
        "    bytes = bytearray(stream.read())\n",
        "    np_array = np.asarray(bytes, dtype=np.uint8)\n",
        "    return cv2.imdecode(np_array , cv2.IMREAD_UNCHANGED)"
      ],
      "metadata": {
        "id": "Wu5mdqi4VvZn"
      },
      "execution_count": null,
      "outputs": []
    },
    {
      "cell_type": "code",
      "source": [
        "# 한글 경로 지원\n",
        "def imwrite(file_path, img, params=None):\n",
        "    try: \n",
        "        ext = os.path.splitext(file_path)[1]\n",
        "        result, n = cv2.imencode(ext, img, params)\n",
        "        if result: \n",
        "            with open(file_path, mode='w+b') as f:\n",
        "                n.tofile(f)\n",
        "                return True\n",
        "        else: \n",
        "            return False \n",
        "    except Exception as e: \n",
        "        print(e)\n",
        "        return False"
      ],
      "metadata": {
        "id": "-oTaG6nuXvRJ"
      },
      "execution_count": null,
      "outputs": []
    },
    {
      "cell_type": "code",
      "source": [
        "# 전체 이미지 bbox가 있는 경우 crop해서 저장 color정보에 따라 저장\n",
        "BASE_LABEL_FOLDER = r\"./data/1.Training/라벨링데이터\"\n",
        "BASE_OUTPUT_FOLDER = r'./data/cropmg'\n",
        "\n",
        "for brand in os.listdir(BASE_LABEL_FOLDER):\n",
        "    brand_path = os.path.join(BASE_LABEL_FOLDER, brand)\n",
        "\n",
        "    for model_name in os.listdir(brand_path):\n",
        "        model_path = os.path.join(brand_path, model_name)\n",
        "\n",
        "        for detail_forder in os.listdir(model_path):\n",
        "            folder_path = os.path.join(model_path, detail_forder)\n",
        "\n",
        "            for file in os.listdir(folder_path):\n",
        "                json_path = os.path.join(folder_path, file)\n",
        "                tmp_json = load_json(json_path)\n",
        "                object_list = tmp_json[\"learningDataInfo\"][\"objects\"]\n",
        "\n",
        "                for i in range(len(object_list)):\n",
        "                    if tmp_json[\"learningDataInfo\"][\"objects\"][i][\"classId\"] == 'P00.차량전체':\n",
        "                        img_file_path = str(tmp_json[\"sourceDataInfo\"][\"sourceDataID\"]) + '.jpg'\n",
        "                        tmp_list = folder_path.split('/')\n",
        "                        tmp_list[3] = '원천데이터'\n",
        "                        img_path = os.path.join('/'.join(tmp_list), img_file_path)\n",
        "\n",
        "                        # 차량 전체 bbox\n",
        "                        box = {\n",
        "                                \"left\": int(tmp_json[\"learningDataInfo\"][\"objects\"][i][\"left\"]),\n",
        "                                \"top\": int(tmp_json[\"learningDataInfo\"][\"objects\"][i][\"top\"]),\n",
        "                                \"width\": int(tmp_json[\"learningDataInfo\"][\"objects\"][i][\"width\"]),\n",
        "                                \"height\": int(tmp_json[\"learningDataInfo\"][\"objects\"][i][\"height\"])\n",
        "                            }\n",
        "\n",
        "                        # 이미지 크롭\n",
        "                        img = imread(img_path)\n",
        "                        cropped_img = crop_image(img, box)\n",
        "\n",
        "                        # 색상 폴더 확인 후 생성\n",
        "                        output_folder = os.path.join(BASE_OUTPUT_FOLDER, tmp_json['rawDataInfo']['colorId'])\n",
        "                        check_folder(output_folder)\n",
        "                        output_path = os.path.join(output_folder, str(img_file_path))\n",
        "\n",
        "                        imwrite(output_path, cropped_img)\n",
        "    print(brand)"
      ],
      "metadata": {
        "id": "FG0pPIdqdTM9"
      },
      "execution_count": null,
      "outputs": []
    },
    {
      "cell_type": "code",
      "source": [
        "base_cropimg = '/content/drive/MyDrive/Car-model-classification/data/cropimg/'\n",
        "\n",
        "black_list = os.listdir(os.path.join(base_cropimg, '검정'))\n",
        "red_list = os.listdir(os.path.join(base_cropimg, '빨강'))\n",
        "blue_list = os.listdir(os.path.join(base_cropimg, '파랑'))\n",
        "grey_list = os.listdir(os.path.join(base_cropimg, '회색'))\n",
        "white_list = os.listdir(os.path.join(base_cropimg, '흰색'))\n",
        "\n",
        "print(len(black_list))\n",
        "print(len(red_list))\n",
        "print(len(blue_list))\n",
        "print(len(grey_list))\n",
        "print(len(white_list))"
      ],
      "metadata": {
        "colab": {
          "base_uri": "https://localhost:8080/"
        },
        "id": "gEhcb3Ra5_Jk",
        "outputId": "1c5594dd-75ab-4ebc-9098-bb1799864a89"
      },
      "execution_count": 32,
      "outputs": [
        {
          "output_type": "stream",
          "name": "stdout",
          "text": [
            "1000\n",
            "1000\n",
            "1000\n",
            "1000\n",
            "1000\n"
          ]
        }
      ]
    },
    {
      "cell_type": "code",
      "source": [
        "def remove_files(file_list):\n",
        "    for file in file_list:\n",
        "        os.remove(file)"
      ],
      "metadata": {
        "id": "boB3zC3btgWr"
      },
      "execution_count": 28,
      "outputs": []
    },
    {
      "cell_type": "code",
      "source": [
        "# class 비율 맞추기\n",
        "import random\n",
        "black_path = random.sample(black_list, 6585)\n",
        "red_path = random.sample(red_list, 277)\n",
        "blue_path = random.sample(blue_list, 3678)\n",
        "grey_path = random.sample(grey_list, 6424)\n",
        "white_path = random.sample(white_list, 8144)\n",
        "\n",
        "%cd '/content/drive/MyDrive/Car-model-classification/data/cropimg/검정'\n",
        "remove_files(black_path)\n",
        "%cd '/content/drive/MyDrive/Car-model-classification/data/cropimg/빨강'\n",
        "remove_files(red_path)\n",
        "%cd '/content/drive/MyDrive/Car-model-classification/data/cropimg/파랑'\n",
        "remove_files(blue_path)\n",
        "%cd '/content/drive/MyDrive/Car-model-classification/data/cropimg/회색'\n",
        "remove_files(grey_path)\n",
        "%cd '/content/drive/MyDrive/Car-model-classification/data/cropimg/흰색'\n",
        "remove_files(white_path)\n",
        "%cd '/content'"
      ],
      "metadata": {
        "id": "zCcuybumoX0I"
      },
      "execution_count": null,
      "outputs": []
    },
    {
      "cell_type": "markdown",
      "metadata": {
        "id": "qYbI0TGpL6Jd"
      },
      "source": [
        "## Imports"
      ]
    },
    {
      "cell_type": "code",
      "source": [
        "pip install efficientnet"
      ],
      "metadata": {
        "id": "YY2MQLd-B_ct"
      },
      "execution_count": null,
      "outputs": []
    },
    {
      "cell_type": "code",
      "source": [
        "import efficientnet.keras as efn\n",
        "import os\n",
        "import tensorflow as tf\n",
        "from tensorflow.keras.preprocessing.image import ImageDataGenerator\n",
        "from tensorflow.keras import layers\n",
        "from tensorflow.keras import models\n",
        "import matplotlib.pyplot as plt\n",
        "from tensorflow.python.keras.layers import Dense, Flatten, Dropout\n",
        "from tensorflow.keras.optimizers import RMSprop"
      ],
      "metadata": {
        "id": "iWxZSHGk9XGo"
      },
      "execution_count": 36,
      "outputs": []
    },
    {
      "cell_type": "markdown",
      "metadata": {
        "id": "VpdwDI3vL8sQ"
      },
      "source": [
        "## Hyper parameters"
      ]
    },
    {
      "cell_type": "code",
      "metadata": {
        "id": "mp4TOw5rJs0M"
      },
      "source": [
        "batch_size = 48\n",
        "\n",
        "width = 150\n",
        "height = 150\n",
        "epochs = 20\n",
        "dropout_rate = 0.2\n",
        "input_shape = (height, width, 3)"
      ],
      "execution_count": 48,
      "outputs": []
    },
    {
      "cell_type": "markdown",
      "metadata": {
        "id": "WONAK_7CKY6z"
      },
      "source": [
        "## prepare dataset"
      ]
    },
    {
      "cell_type": "code",
      "source": [
        "pip install split-folders"
      ],
      "metadata": {
        "id": "VvkQMG4x_GF3"
      },
      "execution_count": null,
      "outputs": []
    },
    {
      "cell_type": "code",
      "source": [
        "import splitfolders\n",
        "\n",
        "splitfolders.ratio(\"/content/drive/MyDrive/Car-model-classification/data/cropimg\", output=\"/content/drive/MyDrive/Car-model-classification/data/result\", seed=1, ratio=(.8, .2))"
      ],
      "metadata": {
        "colab": {
          "base_uri": "https://localhost:8080/"
        },
        "id": "CldI4XUp_JXn",
        "outputId": "f37669a6-c999-4404-c1e7-fb1ed2515a19"
      },
      "execution_count": 39,
      "outputs": [
        {
          "output_type": "stream",
          "name": "stderr",
          "text": [
            "Copying files: 5000 files [02:16, 36.71 files/s]\n"
          ]
        }
      ]
    },
    {
      "cell_type": "code",
      "source": [
        "base_dir = '/content/drive/MyDrive/Car-model-classification/data/result'\n",
        "train_dir = os.path.join(base_dir, 'train')\n",
        "val_dir = os.path.join(base_dir, 'val')"
      ],
      "metadata": {
        "id": "3ydLb3tB_qQT"
      },
      "execution_count": 40,
      "outputs": []
    },
    {
      "cell_type": "markdown",
      "source": [
        "ImageDataGenerator  \n",
        "* rotation_range : 이미지회전값  \n",
        "* zoom_range : 이미지일부확대  \n",
        "* shear_range : 이미지기울기  \n",
        "* width_shift_range : 좌우이동  \n",
        "* height_shift_range : 상하이동  \n",
        "* horizontal_flip : 이미지가로뒤집기  \n",
        "* vertical_filp : 이미지세로뒤집기"
      ],
      "metadata": {
        "id": "sjYHpiQWAsrP"
      }
    },
    {
      "cell_type": "code",
      "source": [
        "train_datagen = ImageDataGenerator(rescale = 1./255.,\n",
        "                                   rotation_range = 45,\n",
        "                                   width_shift_range = 0.2,\n",
        "                                   height_shift_range = 0.2,\n",
        "                                   shear_range = 0.2,\n",
        "                                   zoom_range = 0.2,\n",
        "                                   horizontal_flip = True)\n",
        "\n",
        "val_datagen = ImageDataGenerator(rescale = 1./255.)\n",
        "\n",
        "train_generator = train_datagen.flow_from_directory(train_dir,\n",
        "                                              batch_size = batch_size,\n",
        "                                              class_mode = 'categorical',\n",
        "                                              target_size = (width,height))\n",
        "\n",
        "val_generator = val_datagen.flow_from_directory(val_dir,\n",
        "                                          batch_size = batch_size,\n",
        "                                          class_mode = 'categorical',\n",
        "                                          target_size = (width,height))"
      ],
      "metadata": {
        "colab": {
          "base_uri": "https://localhost:8080/"
        },
        "id": "DZn7c0s7ATsb",
        "outputId": "0b08d3c0-9f8b-45ce-e715-27fe187ae9d6"
      },
      "execution_count": 41,
      "outputs": [
        {
          "output_type": "stream",
          "name": "stdout",
          "text": [
            "Found 4000 images belonging to 5 classes.\n",
            "Found 1000 images belonging to 5 classes.\n"
          ]
        }
      ]
    },
    {
      "cell_type": "markdown",
      "metadata": {
        "id": "oO7kxxRaMC2q"
      },
      "source": [
        "## load the conv base model"
      ]
    },
    {
      "cell_type": "code",
      "source": [
        "base_model = efn.EfficientNetB0(input_shape = (224, 224, 3),\n",
        "                                include_top = False, weights = 'imagenet')"
      ],
      "metadata": {
        "colab": {
          "base_uri": "https://localhost:8080/"
        },
        "id": "rwYB9qMXCO1b",
        "outputId": "17ded0db-a50a-4814-87fd-6e97f01aafcc"
      },
      "execution_count": 42,
      "outputs": [
        {
          "output_type": "stream",
          "name": "stdout",
          "text": [
            "Downloading data from https://github.com/Callidior/keras-applications/releases/download/efficientnet/efficientnet-b0_weights_tf_dim_ordering_tf_kernels_autoaugment_notop.h5\n",
            "16804768/16804768 [==============================] - 0s 0us/step\n"
          ]
        }
      ]
    },
    {
      "cell_type": "code",
      "metadata": {
        "id": "lgjoz26l-HfD"
      },
      "source": [
        "model = models.Sequential()\n",
        "model.add(base_model)\n",
        "model.add(layers.GlobalMaxPooling2D(name=\"gap\")) # 최대값을 뽑아내서 overfitting 회피\n",
        "# model.add(layers.Flatten(name=\"flatten\"))\n",
        "if dropout_rate > 0:\n",
        "    model.add(layers.Dropout(dropout_rate, name=\"dropout_out\")) # 비율로 연결을 끊어 overfitting 회피\n",
        "# model.add(layers.Dense(256, activation='relu', name=\"fc1\"))\n",
        "model.add(layers.Dense(5, activation='softmax', name=\"fc_out\")) # 결과"
      ],
      "execution_count": 43,
      "outputs": []
    },
    {
      "cell_type": "code",
      "metadata": {
        "id": "4iAX7AegDHUS",
        "outputId": "ee6230af-83bf-4a98-c80d-8e23b8b01a16",
        "colab": {
          "base_uri": "https://localhost:8080/"
        }
      },
      "source": [
        "model.summary()"
      ],
      "execution_count": 44,
      "outputs": [
        {
          "output_type": "stream",
          "name": "stdout",
          "text": [
            "Model: \"sequential\"\n",
            "_________________________________________________________________\n",
            " Layer (type)                Output Shape              Param #   \n",
            "=================================================================\n",
            " efficientnet-b0 (Functional  (None, 7, 7, 1280)       4049564   \n",
            " )                                                               \n",
            "                                                                 \n",
            " gap (GlobalMaxPooling2D)    (None, 1280)              0         \n",
            "                                                                 \n",
            " dropout_out (Dropout)       (None, 1280)              0         \n",
            "                                                                 \n",
            " fc_out (Dense)              (None, 5)                 6405      \n",
            "                                                                 \n",
            "=================================================================\n",
            "Total params: 4,055,969\n",
            "Trainable params: 4,013,953\n",
            "Non-trainable params: 42,016\n",
            "_________________________________________________________________\n"
          ]
        }
      ]
    },
    {
      "cell_type": "code",
      "metadata": {
        "id": "_N-F9Z-uDJAi",
        "outputId": "c0bc6f70-10c8-4584-835b-b2c077d32bd2",
        "colab": {
          "base_uri": "https://localhost:8080/"
        }
      },
      "source": [
        "print('This is the number of trainable layers '\n",
        "      'before freezing the conv base:', len(model.trainable_weights))\n",
        "\n",
        "base_model.trainable = False\n",
        "\n",
        "print('This is the number of trainable layers '\n",
        "      'after freezing the conv base:', len(model.trainable_weights))"
      ],
      "execution_count": 45,
      "outputs": [
        {
          "output_type": "stream",
          "name": "stdout",
          "text": [
            "This is the number of trainable layers before freezing the conv base: 213\n",
            "This is the number of trainable layers after freezing the conv base: 2\n"
          ]
        }
      ]
    },
    {
      "cell_type": "code",
      "metadata": {
        "id": "SJHDUrjw2wRG",
        "colab": {
          "base_uri": "https://localhost:8080/"
        },
        "outputId": "2f4a9e04-1f9e-4229-e31f-fcfaf10d7b84"
      },
      "source": [
        "model.compile(loss='categorical_crossentropy',\n",
        "              optimizer=RMSprop(lr=2e-5),\n",
        "              metrics=['acc'])\n",
        "\n",
        "history = model.fit_generator(\n",
        "      train_generator,\n",
        "      epochs=epochs,\n",
        "      validation_data=val_generator,\n",
        "      verbose=1,\n",
        "      use_multiprocessing=True)"
      ],
      "execution_count": 49,
      "outputs": [
        {
          "output_type": "stream",
          "name": "stderr",
          "text": [
            "/usr/local/lib/python3.7/dist-packages/ipykernel_launcher.py:10: UserWarning: `Model.fit_generator` is deprecated and will be removed in a future version. Please use `Model.fit`, which supports generators.\n",
            "  # Remove the CWD from sys.path while we load stuff.\n"
          ]
        },
        {
          "output_type": "stream",
          "name": "stdout",
          "text": [
            "Epoch 1/20\n",
            "84/84 [==============================] - 199s 2s/step - loss: 3.6304 - acc: 0.2007 - val_loss: 2.8612 - val_acc: 0.1830\n",
            "Epoch 2/20\n",
            "84/84 [==============================] - 180s 2s/step - loss: 3.5026 - acc: 0.2058 - val_loss: 2.7283 - val_acc: 0.2060\n",
            "Epoch 3/20\n",
            "84/84 [==============================] - 190s 2s/step - loss: 3.2886 - acc: 0.2202 - val_loss: 2.5919 - val_acc: 0.2220\n",
            "Epoch 4/20\n",
            "84/84 [==============================] - 188s 2s/step - loss: 3.1956 - acc: 0.2348 - val_loss: 2.4469 - val_acc: 0.2480\n",
            "Epoch 5/20\n",
            "84/84 [==============================] - 188s 2s/step - loss: 3.0777 - acc: 0.2420 - val_loss: 2.3720 - val_acc: 0.2580\n",
            "Epoch 6/20\n",
            "84/84 [==============================] - 205s 2s/step - loss: 2.9555 - acc: 0.2585 - val_loss: 2.2553 - val_acc: 0.2850\n",
            "Epoch 7/20\n",
            "84/84 [==============================] - 186s 2s/step - loss: 2.8646 - acc: 0.2680 - val_loss: 2.1691 - val_acc: 0.2980\n",
            "Epoch 8/20\n",
            "84/84 [==============================] - 188s 2s/step - loss: 2.7448 - acc: 0.2855 - val_loss: 2.0701 - val_acc: 0.3170\n",
            "Epoch 9/20\n",
            "84/84 [==============================] - 197s 2s/step - loss: 2.6601 - acc: 0.2912 - val_loss: 2.0018 - val_acc: 0.3290\n",
            "Epoch 10/20\n",
            "84/84 [==============================] - 190s 2s/step - loss: 2.5321 - acc: 0.3175 - val_loss: 1.9539 - val_acc: 0.3410\n",
            "Epoch 11/20\n",
            "84/84 [==============================] - 194s 2s/step - loss: 2.5952 - acc: 0.3105 - val_loss: 1.9084 - val_acc: 0.3580\n",
            "Epoch 12/20\n",
            "84/84 [==============================] - 191s 2s/step - loss: 2.4635 - acc: 0.3282 - val_loss: 1.8340 - val_acc: 0.3580\n",
            "Epoch 13/20\n",
            "84/84 [==============================] - 182s 2s/step - loss: 2.3963 - acc: 0.3400 - val_loss: 1.7861 - val_acc: 0.3700\n",
            "Epoch 14/20\n",
            "84/84 [==============================] - 186s 2s/step - loss: 2.3608 - acc: 0.3435 - val_loss: 1.7550 - val_acc: 0.4000\n",
            "Epoch 15/20\n",
            "84/84 [==============================] - 188s 2s/step - loss: 2.3026 - acc: 0.3638 - val_loss: 1.6994 - val_acc: 0.4040\n",
            "Epoch 16/20\n",
            "84/84 [==============================] - 191s 2s/step - loss: 2.2234 - acc: 0.3710 - val_loss: 1.6667 - val_acc: 0.4070\n",
            "Epoch 17/20\n",
            "84/84 [==============================] - 186s 2s/step - loss: 2.2047 - acc: 0.3713 - val_loss: 1.6240 - val_acc: 0.4200\n",
            "Epoch 18/20\n",
            "84/84 [==============================] - 191s 2s/step - loss: 2.2082 - acc: 0.3762 - val_loss: 1.6063 - val_acc: 0.4370\n",
            "Epoch 19/20\n",
            "84/84 [==============================] - 183s 2s/step - loss: 2.1385 - acc: 0.3900 - val_loss: 1.5711 - val_acc: 0.4380\n",
            "Epoch 20/20\n",
            "84/84 [==============================] - 186s 2s/step - loss: 2.0638 - acc: 0.3938 - val_loss: 1.5453 - val_acc: 0.4460\n"
          ]
        }
      ]
    },
    {
      "cell_type": "code",
      "metadata": {
        "id": "i90iKXuL3CHT",
        "colab": {
          "base_uri": "https://localhost:8080/",
          "height": 545
        },
        "outputId": "0aad504b-a6eb-4725-c556-dbacc3a8defc"
      },
      "source": [
        "acc = history.history['acc']\n",
        "val_acc = history.history['val_acc']\n",
        "loss = history.history['loss']\n",
        "val_loss = history.history['val_loss']\n",
        "\n",
        "epochs_x = range(len(acc))\n",
        "\n",
        "plt.plot(epochs_x, acc, 'bo', label='Training acc')\n",
        "plt.plot(epochs_x, val_acc, 'b', label='Validation acc')\n",
        "plt.title('Training and validation accuracy')\n",
        "plt.legend()\n",
        "\n",
        "plt.figure()\n",
        "\n",
        "plt.plot(epochs_x, loss, 'bo', label='Training loss')\n",
        "plt.plot(epochs_x, val_loss, 'b', label='Validation loss')\n",
        "plt.title('Training and validation loss')\n",
        "plt.legend()\n",
        "\n",
        "plt.show()"
      ],
      "execution_count": 50,
      "outputs": [
        {
          "output_type": "display_data",
          "data": {
            "text/plain": [
              "<Figure size 432x288 with 1 Axes>"
            ],
            "image/png": "[encoded data removed]"
          },
          "metadata": {
            "needs_background": "light"
          }
        },
        {
          "output_type": "display_data",
          "data": {
            "text/plain": [
              "<Figure size 432x288 with 1 Axes>"
            ],
            "image/png": "[encoded data removed]"
          },
          "metadata": {
            "needs_background": "light"
          }
        }
      ]
    },
    {
      "cell_type": "markdown",
      "metadata": {
        "id": "4gRv7SwYqT9f"
      },
      "source": [
        "## Fine tuning last several layers."
      ]
    },
    {
      "cell_type": "code",
      "metadata": {
        "id": "yKI8AJxQVB1Q"
      },
      "source": [
        "# multiply_16\n",
        "# set 'multiply_16' and following layers trainable\n",
        "base_model.trainable = True\n",
        "\n",
        "set_trainable = False\n",
        "for layer in base_model.layers:\n",
        "    if layer.name == 'multiply_16':\n",
        "        set_trainable = True\n",
        "    if set_trainable:\n",
        "        layer.trainable = True\n",
        "    else:\n",
        "        layer.trainable = False"
      ],
      "execution_count": 51,
      "outputs": []
    },
    {
      "cell_type": "code",
      "metadata": {
        "id": "FMjt8tCcDOoC",
        "colab": {
          "base_uri": "https://localhost:8080/"
        },
        "outputId": "fcb27dd6-afa1-4d3a-8ef0-ae94098ce858"
      },
      "source": [
        "model.compile(loss='categorical_crossentropy',\n",
        "              optimizer=RMSprop(lr=2e-5),\n",
        "              metrics=['acc'])\n",
        "\n",
        "history = model.fit_generator(\n",
        "      train_generator,\n",
        "      epochs=epochs,\n",
        "      validation_data=val_generator,\n",
        "      verbose=1,\n",
        "      use_multiprocessing=True)"
      ],
      "execution_count": 52,
      "outputs": [
        {
          "output_type": "stream",
          "name": "stderr",
          "text": [
            "/usr/local/lib/python3.7/dist-packages/ipykernel_launcher.py:10: UserWarning: `Model.fit_generator` is deprecated and will be removed in a future version. Please use `Model.fit`, which supports generators.\n",
            "  # Remove the CWD from sys.path while we load stuff.\n"
          ]
        },
        {
          "output_type": "stream",
          "name": "stdout",
          "text": [
            "Epoch 1/20\n",
            "84/84 [==============================] - 201s 2s/step - loss: 2.0103 - acc: 0.4017 - val_loss: 1.5159 - val_acc: 0.4540\n",
            "Epoch 2/20\n",
            "84/84 [==============================] - 185s 2s/step - loss: 1.9952 - acc: 0.4092 - val_loss: 1.4899 - val_acc: 0.4620\n",
            "Epoch 3/20\n",
            "84/84 [==============================] - 186s 2s/step - loss: 1.9705 - acc: 0.4218 - val_loss: 1.4764 - val_acc: 0.4730\n",
            "Epoch 4/20\n",
            "84/84 [==============================] - 201s 2s/step - loss: 2.0022 - acc: 0.4137 - val_loss: 1.4462 - val_acc: 0.4730\n",
            "Epoch 5/20\n",
            "84/84 [==============================] - 194s 2s/step - loss: 1.8949 - acc: 0.4255 - val_loss: 1.4186 - val_acc: 0.4860\n",
            "Epoch 6/20\n",
            "84/84 [==============================] - 188s 2s/step - loss: 1.8806 - acc: 0.4453 - val_loss: 1.3921 - val_acc: 0.4890\n",
            "Epoch 7/20\n",
            "84/84 [==============================] - 190s 2s/step - loss: 1.8811 - acc: 0.4412 - val_loss: 1.3788 - val_acc: 0.5000\n",
            "Epoch 8/20\n",
            "84/84 [==============================] - 189s 2s/step - loss: 1.8219 - acc: 0.4433 - val_loss: 1.3499 - val_acc: 0.5020\n",
            "Epoch 9/20\n",
            "84/84 [==============================] - 187s 2s/step - loss: 1.8650 - acc: 0.4428 - val_loss: 1.3434 - val_acc: 0.5060\n",
            "Epoch 10/20\n",
            "84/84 [==============================] - 192s 2s/step - loss: 1.8193 - acc: 0.4462 - val_loss: 1.3287 - val_acc: 0.5110\n",
            "Epoch 11/20\n",
            "84/84 [==============================] - 190s 2s/step - loss: 1.8322 - acc: 0.4478 - val_loss: 1.3181 - val_acc: 0.5110\n",
            "Epoch 12/20\n",
            "84/84 [==============================] - 189s 2s/step - loss: 1.7353 - acc: 0.4655 - val_loss: 1.3020 - val_acc: 0.5160\n",
            "Epoch 13/20\n",
            "84/84 [==============================] - 186s 2s/step - loss: 1.7510 - acc: 0.4575 - val_loss: 1.2794 - val_acc: 0.5170\n",
            "Epoch 14/20\n",
            "84/84 [==============================] - 194s 2s/step - loss: 1.7616 - acc: 0.4665 - val_loss: 1.2658 - val_acc: 0.5250\n",
            "Epoch 15/20\n",
            "84/84 [==============================] - 189s 2s/step - loss: 1.7242 - acc: 0.4735 - val_loss: 1.2554 - val_acc: 0.5290\n",
            "Epoch 16/20\n",
            "84/84 [==============================] - 191s 2s/step - loss: 1.6940 - acc: 0.4765 - val_loss: 1.2415 - val_acc: 0.5330\n",
            "Epoch 17/20\n",
            "84/84 [==============================] - 192s 2s/step - loss: 1.6638 - acc: 0.4748 - val_loss: 1.2221 - val_acc: 0.5350\n",
            "Epoch 18/20\n",
            "84/84 [==============================] - 185s 2s/step - loss: 1.6387 - acc: 0.4767 - val_loss: 1.2277 - val_acc: 0.5340\n",
            "Epoch 19/20\n",
            "84/84 [==============================] - 186s 2s/step - loss: 1.6815 - acc: 0.4803 - val_loss: 1.2053 - val_acc: 0.5420\n",
            "Epoch 20/20\n",
            "84/84 [==============================] - 189s 2s/step - loss: 1.6586 - acc: 0.4770 - val_loss: 1.2042 - val_acc: 0.5400\n"
          ]
        }
      ]
    },
    {
      "cell_type": "code",
      "metadata": {
        "id": "HvVt5TwoEDz6"
      },
      "source": [
        "os.makedirs(\"./models\", exist_ok=True)\n",
        "model.save('./models/color.h5')"
      ],
      "execution_count": 53,
      "outputs": []
    },
    {
      "cell_type": "code",
      "metadata": {
        "id": "65AKWOGiHB5y",
        "outputId": "cc62b34f-8dfb-4075-ae40-f8e8d426cbf5",
        "colab": {
          "base_uri": "https://localhost:8080/",
          "height": 545
        }
      },
      "source": [
        "acc = history.history['acc']\n",
        "val_acc = history.history['val_acc']\n",
        "loss = history.history['loss']\n",
        "val_loss = history.history['val_loss']\n",
        "\n",
        "epochs_x = range(len(acc))\n",
        "\n",
        "plt.plot(epochs_x, acc, 'bo', label='Training acc')\n",
        "plt.plot(epochs_x, val_acc, 'b', label='Validation acc')\n",
        "plt.title('Training and validation accuracy')\n",
        "plt.legend()\n",
        "\n",
        "plt.figure()\n",
        "\n",
        "plt.plot(epochs_x, loss, 'bo', label='Training loss')\n",
        "plt.plot(epochs_x, val_loss, 'b', label='Validation loss')\n",
        "plt.title('Training and validation loss')\n",
        "plt.legend()\n",
        "\n",
        "plt.show()"
      ],
      "execution_count": 54,
      "outputs": [
        {
          "output_type": "display_data",
          "data": {
            "text/plain": [
              "<Figure size 432x288 with 1 Axes>"
            ],
            "image/png": "[encoded data removed]"
          },
          "metadata": {
            "needs_background": "light"
          }
        },
        {
          "output_type": "display_data",
          "data": {
            "text/plain": [
              "<Figure size 432x288 with 1 Axes>"
            ],
            "image/png": "[encoded data removed]"
          },
          "metadata": {
            "needs_background": "light"
          }
        }
      ]
    },
    {
      "cell_type": "markdown",
      "metadata": {
        "id": "ogB16XX3eXaN"
      },
      "source": [
        "## Download the model"
      ]
    },
    {
      "cell_type": "code",
      "metadata": {
        "id": "H_3Zek4eeSXD",
        "colab": {
          "base_uri": "https://localhost:8080/",
          "height": 17
        },
        "outputId": "5ccc317f-51e2-49c3-f8e5-7cd9cd179ec6"
      },
      "source": [
        "from google.colab import files\n",
        "\n",
        "files.download('./models/color.h5')"
      ],
      "execution_count": 55,
      "outputs": [
        {
          "output_type": "display_data",
          "data": {
            "text/plain": [
              "<IPython.core.display.Javascript object>"
            ],
            "application/javascript": [
              "\n",
              "    async function download(id, filename, size) {\n",
              "      if (!google.colab.kernel.accessAllowed) {\n",
              "        return;\n",
              "      }\n",
              "      const div = document.createElement('div');\n",
              "      const label = document.createElement('label');\n",
              "      label.textContent = `Downloading \"${filename}\": `;\n",
              "      div.appendChild(label);\n",
              "      const progress = document.createElement('progress');\n",
              "      progress.max = size;\n",
              "      div.appendChild(progress);\n",
              "      document.body.appendChild(div);\n",
              "\n",
              "      const buffers = [];\n",
              "      let downloaded = 0;\n",
              "\n",
              "      const channel = await google.colab.kernel.comms.open(id);\n",
              "      // Send a message to notify the kernel that we're ready.\n",
              "      channel.send({})\n",
              "\n",
              "      for await (const message of channel.messages) {\n",
              "        // Send a message to notify the kernel that we're ready.\n",
              "        channel.send({})\n",
              "        if (message.buffers) {\n",
              "          for (const buffer of message.buffers) {\n",
              "            buffers.push(buffer);\n",
              "            downloaded += buffer.byteLength;\n",
              "            progress.value = downloaded;\n",
              "          }\n",
              "        }\n",
              "      }\n",
              "      const blob = new Blob(buffers, {type: 'application/binary'});\n",
              "      const a = document.createElement('a');\n",
              "      a.href = window.URL.createObjectURL(blob);\n",
              "      a.download = filename;\n",
              "      div.appendChild(a);\n",
              "      a.click();\n",
              "      div.remove();\n",
              "    }\n",
              "  "
            ]
          },
          "metadata": {}
        },
        {
          "output_type": "display_data",
          "data": {
            "text/plain": [
              "<IPython.core.display.Javascript object>"
            ],
            "application/javascript": [
              "download(\"download_51a490e7-32f9-4d2f-bd55-a9e5d4f2a83e\", \"color.h5\", 16641936)"
            ]
          },
          "metadata": {}
        }
      ]
    },
    {
      "cell_type": "code",
      "metadata": {
        "id": "n1rvrVx3CVN0",
        "outputId": "4259146f-75e0-4ea4-ea14-4da3df391c8a",
        "colab": {
          "base_uri": "https://localhost:8080/"
        }
      },
      "source": [
        "model.input_shape"
      ],
      "execution_count": 56,
      "outputs": [
        {
          "output_type": "execute_result",
          "data": {
            "text/plain": [
              "(None, 224, 224, 3)"
            ]
          },
          "metadata": {},
          "execution_count": 56
        }
      ]
    },
    {
      "cell_type": "markdown",
      "metadata": {
        "id": "j9O9mCbbVPWk"
      },
      "source": [
        "## Load the model"
      ]
    },
    {
      "cell_type": "code",
      "metadata": {
        "id": "rkBE5AZdwLki"
      },
      "source": [
        "from efficientnet.layers import Swish, DropConnect\n",
        "from efficientnet.model import ConvKernalInitializer\n",
        "from tensorflow.keras.utils import get_custom_objects\n",
        "\n",
        "get_custom_objects().update({\n",
        "    'ConvKernalInitializer': ConvKernalInitializer,\n",
        "    'Swish': Swish,\n",
        "    'DropConnect':DropConnect\n",
        "})"
      ],
      "execution_count": null,
      "outputs": []
    },
    {
      "cell_type": "code",
      "metadata": {
        "id": "pURT5B8uVFgq"
      },
      "source": [
        "from tensorflow.keras.models import load_model\n",
        "model = load_model(\"./models/color.h5\")"
      ],
      "execution_count": null,
      "outputs": []
    }
  ],
  "metadata": {
    "colab": {
      "provenance": [],
      "collapsed_sections": [
        "O1S8AiDnL_-p",
        "5om0TLyvRZaT",
        "bVhTSziOTuvC"
      ],
      "mount_file_id": "1roz1lXsq7FFDZDnH-l4jrZD8OSq0Z5NG",
      "authorship_tag": "ABX9TyPCNoiWHvYOhlY1cn9qo76M",
      "include_colab_link": true
    },
    "gpuClass": "premium",
    "kernelspec": {
      "display_name": "Python 3",
      "name": "python3"
    },
    "language_info": {
      "name": "python"
    }
  },
  "nbformat": 4,
  "nbformat_minor": 0
}
{
  "nbformat": 4,
  "nbformat_minor": 0,
  "metadata": {
    "colab": {
      "provenance": [],
      "collapsed_sections": [
        "R4ZilDbyBh5W",
        "5om0TLyvRZaT",
        "bVhTSziOTuvC",
        "qYbI0TGpL6Jd"
      ],
      "machine_shape": "hm",
      "authorship_tag": "ABX9TyOed1bNrOt3SExBh53DigpW",
      "include_colab_link": true
    },
    "kernelspec": {
      "name": "python3",
      "display_name": "Python 3"
    },
    "language_info": {
      "name": "python"
    },
    "gpuClass": "standard",
    "accelerator": "GPU"
  },
  "cells": [
    {
      "cell_type": "markdown",
      "metadata": {
        "id": "view-in-github",
        "colab_type": "text"
      },
      "source": [
        "<a href=\"https://colab.research.google.com/github/Jeongho-K/Car-model-classification/blob/main/code/2_Car_classification_with_efficient_net.ipynb\" target=\"_parent\"><img src=\"https://colab.research.google.com/assets/colab-badge.svg\" alt=\"Open In Colab\"/></a>"
      ]
    },
    {
      "cell_type": "markdown",
      "metadata": {
        "id": "Bv4F7HCHL-go"
      },
      "source": [
        "# Car classification"
      ]
    },
    {
      "cell_type": "markdown",
      "source": [
        "data: https://aihub.or.kr/aihubdata/data/view.do?currMenu=115&topMenu=100&aihubDataSe=realm&dataSetSn=554"
      ],
      "metadata": {
        "id": "clAsecM5MVZc"
      }
    },
    {
      "cell_type": "code",
      "source": [
        "from google.colab import drive\n",
        "drive.mount('/content/drive')"
      ],
      "metadata": {
        "id": "41JnLkOgTgIZ",
        "colab": {
          "base_uri": "https://localhost:8080/"
        },
        "outputId": "b6a90273-8bcf-49b5-aa98-0785e8881309"
      },
      "execution_count": 2,
      "outputs": [
        {
          "output_type": "stream",
          "name": "stdout",
          "text": [
            "Mounted at /content/drive\n"
          ]
        }
      ]
    },
    {
      "cell_type": "code",
      "source": [
        "import torch"
      ],
      "metadata": {
        "id": "d3imibNHdEe1"
      },
      "execution_count": 3,
      "outputs": []
    },
    {
      "cell_type": "code",
      "source": [
        "device = torch.device('cuda' if torch.cuda.is_available() else 'cpu')\n",
        "print(device)"
      ],
      "metadata": {
        "colab": {
          "base_uri": "https://localhost:8080/"
        },
        "id": "vYIRzQ1PdDb6",
        "outputId": "92873cfa-5c76-4c25-f67b-a92df1271e03"
      },
      "execution_count": 4,
      "outputs": [
        {
          "output_type": "stream",
          "name": "stdout",
          "text": [
            "cuda\n"
          ]
        }
      ]
    },
    {
      "cell_type": "markdown",
      "source": [
        "## 차량 방향 확인할 이미지 리스트 생성"
      ],
      "metadata": {
        "id": "R4ZilDbyBh5W"
      }
    },
    {
      "cell_type": "code",
      "source": [
        "import shutil\n",
        "import os\n",
        "import cv2\n",
        "import matplotlib.pyplot as plt\n",
        "import glob"
      ],
      "metadata": {
        "id": "OtVYP1jueITN"
      },
      "execution_count": null,
      "outputs": []
    },
    {
      "cell_type": "code",
      "source": [
        "def make_img_list(BASE_FOLDER, OUTPUT):\n",
        "    f_list = []\n",
        "    for model_name in os.listdir(BASE_FOLDER):\n",
        "        model_path = os.path.join(BASE_FOLDER, model_name)\n",
        "        for detail_forder in os.listdir(model_path):\n",
        "            folder_path = os.path.join(model_path, detail_forder + '/*')\n",
        "            f_list += glob.glob(folder_path)\n",
        "\n",
        "    with open(OUTPUT, 'w', encoding=\"UTF8\") as f:\n",
        "        for line in f_list:\n",
        "            f.write(line)\n",
        "            f.write('\\n')"
      ],
      "metadata": {
        "id": "vSOKS_w7m_w3"
      },
      "execution_count": null,
      "outputs": []
    },
    {
      "cell_type": "code",
      "source": [
        "train_BASE_FOLDER = r\"/content/drive/MyDrive/Car-model-classification/data/1.Training/원천데이터/HY_현대\"\n",
        "train_OUTPUT = '/content/drive/MyDrive/Car-model-classification/data/train_image_list.txt'\n",
        "\n",
        "make_img_list(train_BASE_FOLDER, train_OUTPUT)"
      ],
      "metadata": {
        "id": "ZyjlPrj3iyej"
      },
      "execution_count": null,
      "outputs": []
    },
    {
      "cell_type": "code",
      "source": [
        "val_BASE_FOLDER = r\"/content/drive/MyDrive/Car-model-classification/data/2.Validation/원천데이터/HY_현대\"\n",
        "val_OUTPUT = '/content/drive/MyDrive/Car-model-classification/data/val_image_list.txt'\n",
        "\n",
        "make_img_list(val_BASE_FOLDER, val_OUTPUT)"
      ],
      "metadata": {
        "id": "HfNWt3winhlT"
      },
      "execution_count": null,
      "outputs": []
    },
    {
      "cell_type": "markdown",
      "source": [
        "## yolov4 custom(차량 앞, 뒤, 옆 분류)"
      ],
      "metadata": {
        "id": "5om0TLyvRZaT"
      }
    },
    {
      "cell_type": "code",
      "source": [
        "!git clone https://github.com/AlexeyAB/darknet"
      ],
      "metadata": {
        "id": "_P8L0bVgdPH3",
        "colab": {
          "base_uri": "https://localhost:8080/"
        },
        "outputId": "1a127846-5b44-4ff7-cdc0-fb608f95c8e6"
      },
      "execution_count": null,
      "outputs": [
        {
          "output_type": "stream",
          "name": "stdout",
          "text": [
            "Cloning into 'darknet'...\n",
            "remote: Enumerating objects: 15502, done.\u001b[K\n",
            "remote: Total 15502 (delta 0), reused 0 (delta 0), pack-reused 15502\u001b[K\n",
            "Receiving objects: 100% (15502/15502), 14.17 MiB | 15.10 MiB/s, done.\n",
            "Resolving deltas: 100% (10405/10405), done.\n"
          ]
        }
      ]
    },
    {
      "cell_type": "markdown",
      "source": [
        "- darknet모델내 makefile파일 내용 수정  \n",
        "- GPU=1, CUDNN=1, OPENCV=1"
      ],
      "metadata": {
        "id": "4Y9uXjMUvcAc"
      }
    },
    {
      "cell_type": "code",
      "source": [
        "import os\n",
        "path = '/content/darknet'\n",
        "os.chdir(path)\n",
        "!make"
      ],
      "metadata": {
        "id": "CkO_XOlRuL8_"
      },
      "execution_count": null,
      "outputs": []
    },
    {
      "cell_type": "code",
      "source": [
        "# verify installation\n",
        "!./darknet"
      ],
      "metadata": {
        "colab": {
          "base_uri": "https://localhost:8080/"
        },
        "id": "bIIGj6jbwHWz",
        "outputId": "3f5aafc4-7d69-4562-9d43-21619acabab8"
      },
      "execution_count": null,
      "outputs": [
        {
          "output_type": "stream",
          "name": "stdout",
          "text": [
            "usage: ./darknet <function>\n"
          ]
        }
      ]
    },
    {
      "cell_type": "code",
      "source": [
        "# pretrained weights\n",
        "import shutil\n",
        "shutil.copy('/content/drive/MyDrive/Car-model-classification/models/YOLOv4_사전학습/yolov4-car.cfg', 'cfg/yolov4-car.cfg')\n",
        "shutil.copy('/content/drive/MyDrive/Car-model-classification/models/YOLOv4_사전학습/yolov4-car_best.weights', 'cfg/yolov4-car_best.weights')\n",
        "shutil.copy('/content/drive/MyDrive/Car-model-classification/models/YOLOv4_사전학습/car.names', 'data/car.names')\n",
        "shutil.copy('/content/drive/MyDrive/Car-model-classification/models/YOLOv4_사전학습/car.data', 'data/car.data')"
      ],
      "metadata": {
        "colab": {
          "base_uri": "https://localhost:8080/",
          "height": 36
        },
        "id": "9tXKEC-meMMR",
        "outputId": "5318745e-0078-4d9a-eee3-ccd545170368"
      },
      "execution_count": null,
      "outputs": [
        {
          "output_type": "execute_result",
          "data": {
            "text/plain": [
              "'data/car.data'"
            ],
            "application/vnd.google.colaboratory.intrinsic+json": {
              "type": "string"
            }
          },
          "metadata": {},
          "execution_count": 10
        }
      ]
    },
    {
      "cell_type": "code",
      "source": [
        "!./darknet detector test data/car.data cfg/yolov4-car.cfg cfg/yolov4-car_best.weights -dont_show -out /content/drive/MyDrive/Car-model-classification/data/train_direction_results.json < /content/drive/MyDrive/Car-model-classification/data/train_image_list.txt"
      ],
      "metadata": {
        "id": "BnvFzRPghP7Y"
      },
      "execution_count": null,
      "outputs": []
    },
    {
      "cell_type": "code",
      "source": [
        "!./darknet detector test data/car.data cfg/yolov4-car.cfg cfg/yolov4-car_best.weights -dont_show -out /content/drive/MyDrive/Car-model-classification/data/val_direction_results.json < /content/drive/MyDrive/Car-model-classification/data/val_image_list.txt"
      ],
      "metadata": {
        "id": "ZTx48SmToP6i"
      },
      "execution_count": null,
      "outputs": []
    },
    {
      "cell_type": "markdown",
      "source": [
        "### 차량 front, side, back label\n",
        "yolo모델로 생성된 direction_results.json으로 방향 class별 3개 라벨 데이터 생성"
      ],
      "metadata": {
        "id": "QzM4L_J3lKNS"
      }
    },
    {
      "cell_type": "markdown",
      "source": [
        "## 이미지 crop"
      ],
      "metadata": {
        "id": "bVhTSziOTuvC"
      }
    },
    {
      "cell_type": "code",
      "source": [
        "import os\n",
        "import json\n",
        "import cv2\n",
        "import numpy as np\n",
        "import shutil"
      ],
      "metadata": {
        "id": "Nz4PTT4JQpYC"
      },
      "execution_count": null,
      "outputs": []
    },
    {
      "cell_type": "code",
      "source": [
        "# 텍스트 읽기\n",
        "def read_text(file_path, encoding=\"utf-8\"):\n",
        "    text = None\n",
        "    with open(file_path, 'r', encoding=encoding) as f:\n",
        "        text = f.read()\n",
        "    return text"
      ],
      "metadata": {
        "id": "H0MqjZGOOkX4"
      },
      "execution_count": null,
      "outputs": []
    },
    {
      "cell_type": "code",
      "source": [
        "def load_json(json_path, encoding=\"utf-8\"):\n",
        "    return json.loads(read_text(json_path, encoding))"
      ],
      "metadata": {
        "id": "_v0PbopnlkPp"
      },
      "execution_count": null,
      "outputs": []
    },
    {
      "cell_type": "code",
      "source": [
        "def check_folder(folder_path):\n",
        "    if not os.path.exists(folder_path):\n",
        "        os.makedirs(folder_path)"
      ],
      "metadata": {
        "id": "jLKkP7h8f5wB"
      },
      "execution_count": null,
      "outputs": []
    },
    {
      "cell_type": "code",
      "source": [
        "# box 정보에 대해 margin 값만큼 확장함\n",
        "def expand_box(box, margin, img_width = None, img_height = None):\n",
        "    x = box[\"left\"]\n",
        "    y = box[\"top\"]\n",
        "    w = box[\"width\"]\n",
        "    h = box[\"height\"]\n",
        "\n",
        "    x = x - margin\n",
        "    x = max(x, 0)\n",
        "    y = y - margin\n",
        "    y = max(y, 0)\n",
        "\n",
        "    w = w + 2*margin\n",
        "    if img_width and x + w > img_width:\n",
        "        w = img_width - x\n",
        "    \n",
        "    h = h + 2*margin\n",
        "    if img_height and y + h > img_height:\n",
        "        h = img_height - y\n",
        "\n",
        "    new_box = {\n",
        "        \"left\": x, \n",
        "        \"top\": y,\n",
        "        \"width\": w,\n",
        "        \"height\": h\n",
        "    }\n",
        "\n",
        "    return new_box"
      ],
      "metadata": {
        "id": "F82HuGMBi8gY"
      },
      "execution_count": null,
      "outputs": []
    },
    {
      "cell_type": "code",
      "source": [
        "# 이미지 crop\n",
        "def crop_image(image_np, box, margin = 0):\n",
        "    if margin > 0:\n",
        "        box = expand_box(box, margin)\n",
        "       \n",
        "    x1 = box[\"left\"]\n",
        "    y1 = box[\"top\"]\n",
        "    x2 = box[\"left\"] + box[\"width\"]\n",
        "    y2 = box[\"top\"] + box[\"height\"]\n",
        "    return image_np[y1:y2, x1:x2]"
      ],
      "metadata": {
        "id": "5Hz8t5q7UHgd"
      },
      "execution_count": null,
      "outputs": []
    },
    {
      "cell_type": "code",
      "source": [
        "# 한글 경로 지원\n",
        "def imread( file_path ) :\n",
        "    stream = open( file_path.encode(\"utf-8\") , \"rb\")\n",
        "    bytes = bytearray(stream.read())\n",
        "    np_array = np.asarray(bytes, dtype=np.uint8)\n",
        "    return cv2.imdecode(np_array , cv2.IMREAD_UNCHANGED)"
      ],
      "metadata": {
        "id": "Wu5mdqi4VvZn"
      },
      "execution_count": null,
      "outputs": []
    },
    {
      "cell_type": "code",
      "source": [
        "# 한글 경로 지원\n",
        "def imwrite(file_path, img, params=None):\n",
        "    try: \n",
        "        ext = os.path.splitext(file_path)[1]\n",
        "        result, n = cv2.imencode(ext, img, params)\n",
        "        if result: \n",
        "            with open(file_path, mode='w+b') as f:\n",
        "                n.tofile(f)\n",
        "                return True\n",
        "        else: \n",
        "            return False \n",
        "    except Exception as e: \n",
        "        print(e)\n",
        "        return False"
      ],
      "metadata": {
        "id": "-oTaG6nuXvRJ"
      },
      "execution_count": null,
      "outputs": []
    },
    {
      "cell_type": "code",
      "source": [
        "# 전체 이미지 bbox가 있는 경우 crop해서 방향정보에 따라 저장 \n",
        "def crop_store_by_direction(direction_path, BASE_OUTPUT_FOLDER):\n",
        "    dir_json = load_json(direction_path)\n",
        "\n",
        "    for dir in dir_json:\n",
        "\n",
        "        if len(dir['objects']) > 0:\n",
        "            confidence = [x['confidence'] for x in dir['objects']]\n",
        "            best_idx = confidence.index(max(confidence)) # 가장 신뢰도 높은 분류 class\n",
        "\n",
        "            img_path = dir['filename']\n",
        "            tmp_list = img_path.split('/')\n",
        "            tmp_list[7] = '라벨링데이터'\n",
        "            img_name = tmp_list[11]\n",
        "            json_name = img_name.split('.')[0] + '.json'\n",
        "            json_path = '/'.join(tmp_list[:-1]) + '/' + json_name\n",
        "\n",
        "            img_json = load_json(json_path)\n",
        "            object_list = img_json[\"learningDataInfo\"][\"objects\"]\n",
        "            \n",
        "            \n",
        "\n",
        "            for i in range(len(object_list)):\n",
        "                if img_json[\"learningDataInfo\"][\"objects\"][i][\"classId\"] == 'P00.차량전체':\n",
        "                    # 차량 전체 bbox\n",
        "                    box = {\n",
        "                            \"left\": int(img_json[\"learningDataInfo\"][\"objects\"][i][\"left\"]),\n",
        "                            \"top\": int(img_json[\"learningDataInfo\"][\"objects\"][i][\"top\"]),\n",
        "                            \"width\": int(img_json[\"learningDataInfo\"][\"objects\"][i][\"width\"]),\n",
        "                            \"height\": int(img_json[\"learningDataInfo\"][\"objects\"][i][\"height\"])\n",
        "                            }\n",
        "\n",
        "                    # 이미지 크롭\n",
        "                    img = imread(img_path)\n",
        "                    cropped_img = crop_image(img, box, 10)\n",
        "\n",
        "                    # 방향 확인 후 해당 폴더에 저장\n",
        "                    direction = dir['objects'][best_idx]['name']\n",
        "                    output_folder = os.path.join(BASE_OUTPUT_FOLDER, direction)\n",
        "                    check_folder(output_folder)\n",
        "                    output_path = os.path.join(output_folder, str(img_name))\n",
        "\n",
        "                    imwrite(output_path, cropped_img)\n",
        "\n",
        "                    # 라벨링 데이터도 같이 이동\n",
        "                    shutil.copyfile(json_path, os.path.join(output_folder, str(json_name)))\n",
        "\n",
        "        print(dir['frame_id'])"
      ],
      "metadata": {
        "id": "fQ7u8Rb8kcJq"
      },
      "execution_count": null,
      "outputs": []
    },
    {
      "cell_type": "code",
      "source": [
        "# train & validation img\n",
        "train_val_direction_path = '/content/drive/MyDrive/Car-model-classification/data/train_direction_results.json'\n",
        "train_val_output_folder = '/content/drive/MyDrive/Car-model-classification/data/cropimg/train_val'\n",
        "\n",
        "crop_store_by_direction(train_val_direction_path, train_val_output_folder)"
      ],
      "metadata": {
        "id": "1CAxj1FJlUUU"
      },
      "execution_count": null,
      "outputs": []
    },
    {
      "cell_type": "code",
      "source": [
        "# test img\n",
        "val_direction_path = '/content/drive/MyDrive/Car-model-classification/data/val_direction_results.json'\n",
        "val_output_folder = '/content/drive/MyDrive/Car-model-classification/data/cropimg/test'\n",
        "\n",
        "crop_store_by_direction(val_direction_path, val_output_folder)"
      ],
      "metadata": {
        "id": "C6zBPV3IlZZ2"
      },
      "execution_count": null,
      "outputs": []
    },
    {
      "cell_type": "markdown",
      "metadata": {
        "id": "qYbI0TGpL6Jd"
      },
      "source": [
        "## Imports"
      ]
    },
    {
      "cell_type": "code",
      "source": [
        "pip install efficientnet"
      ],
      "metadata": {
        "id": "YY2MQLd-B_ct",
        "colab": {
          "base_uri": "https://localhost:8080/"
        },
        "outputId": "1ace73b2-7e49-4046-bc67-ffca7366dd15"
      },
      "execution_count": 9,
      "outputs": [
        {
          "output_type": "stream",
          "name": "stdout",
          "text": [
            "Looking in indexes: https://pypi.org/simple, https://us-python.pkg.dev/colab-wheels/public/simple/\n",
            "Requirement already satisfied: efficientnet in /usr/local/lib/python3.8/dist-packages (1.1.1)\n",
            "Requirement already satisfied: keras-applications<=1.0.8,>=1.0.7 in /usr/local/lib/python3.8/dist-packages (from efficientnet) (1.0.8)\n",
            "Requirement already satisfied: scikit-image in /usr/local/lib/python3.8/dist-packages (from efficientnet) (0.18.3)\n",
            "Requirement already satisfied: h5py in /usr/local/lib/python3.8/dist-packages (from keras-applications<=1.0.8,>=1.0.7->efficientnet) (3.1.0)\n",
            "Requirement already satisfied: numpy>=1.9.1 in /usr/local/lib/python3.8/dist-packages (from keras-applications<=1.0.8,>=1.0.7->efficientnet) (1.21.6)\n",
            "Requirement already satisfied: imageio>=2.3.0 in /usr/local/lib/python3.8/dist-packages (from scikit-image->efficientnet) (2.9.0)\n",
            "Requirement already satisfied: tifffile>=2019.7.26 in /usr/local/lib/python3.8/dist-packages (from scikit-image->efficientnet) (2021.11.2)\n",
            "Requirement already satisfied: matplotlib!=3.0.0,>=2.0.0 in /usr/local/lib/python3.8/dist-packages (from scikit-image->efficientnet) (3.2.2)\n",
            "Requirement already satisfied: pillow!=7.1.0,!=7.1.1,>=4.3.0 in /usr/local/lib/python3.8/dist-packages (from scikit-image->efficientnet) (7.1.2)\n",
            "Requirement already satisfied: networkx>=2.0 in /usr/local/lib/python3.8/dist-packages (from scikit-image->efficientnet) (2.6.3)\n",
            "Requirement already satisfied: scipy>=1.0.1 in /usr/local/lib/python3.8/dist-packages (from scikit-image->efficientnet) (1.7.3)\n",
            "Requirement already satisfied: PyWavelets>=1.1.1 in /usr/local/lib/python3.8/dist-packages (from scikit-image->efficientnet) (1.3.0)\n",
            "Requirement already satisfied: python-dateutil>=2.1 in /usr/local/lib/python3.8/dist-packages (from matplotlib!=3.0.0,>=2.0.0->scikit-image->efficientnet) (2.8.2)\n",
            "Requirement already satisfied: cycler>=0.10 in /usr/local/lib/python3.8/dist-packages (from matplotlib!=3.0.0,>=2.0.0->scikit-image->efficientnet) (0.11.0)\n",
            "Requirement already satisfied: kiwisolver>=1.0.1 in /usr/local/lib/python3.8/dist-packages (from matplotlib!=3.0.0,>=2.0.0->scikit-image->efficientnet) (1.4.4)\n",
            "Requirement already satisfied: pyparsing!=2.0.4,!=2.1.2,!=2.1.6,>=2.0.1 in /usr/local/lib/python3.8/dist-packages (from matplotlib!=3.0.0,>=2.0.0->scikit-image->efficientnet) (3.0.9)\n",
            "Requirement already satisfied: six>=1.5 in /usr/local/lib/python3.8/dist-packages (from python-dateutil>=2.1->matplotlib!=3.0.0,>=2.0.0->scikit-image->efficientnet) (1.15.0)\n"
          ]
        }
      ]
    },
    {
      "cell_type": "code",
      "source": [
        "import efficientnet.keras as efn\n",
        "import os\n",
        "import tensorflow as tf\n",
        "from tensorflow.keras.preprocessing.image import ImageDataGenerator\n",
        "from tensorflow.keras import layers\n",
        "from tensorflow.keras import models\n",
        "import matplotlib.pyplot as plt\n",
        "from tensorflow.python.keras.layers import Dense, Flatten, Dropout\n",
        "from tensorflow.keras.optimizers import RMSprop"
      ],
      "metadata": {
        "id": "iWxZSHGk9XGo"
      },
      "execution_count": 10,
      "outputs": []
    },
    {
      "cell_type": "markdown",
      "metadata": {
        "id": "VpdwDI3vL8sQ"
      },
      "source": [
        "## Hyper parameters"
      ]
    },
    {
      "cell_type": "code",
      "metadata": {
        "id": "mp4TOw5rJs0M"
      },
      "source": [
        "batch_size = 48\n",
        "\n",
        "width = 300\n",
        "height = 300\n",
        "epochs = 20\n",
        "dropout_rate = 0.2\n",
        "input_shape = (height, width, 3)"
      ],
      "execution_count": 11,
      "outputs": []
    },
    {
      "cell_type": "markdown",
      "source": [
        "## image dastaframe"
      ],
      "metadata": {
        "id": "WchXOgQnE96-"
      }
    },
    {
      "cell_type": "code",
      "source": [
        "import pandas as pd\n",
        "import json\n",
        "import os"
      ],
      "metadata": {
        "id": "RWDDaVlwFCrA"
      },
      "execution_count": 12,
      "outputs": []
    },
    {
      "cell_type": "code",
      "source": [
        "# 텍스트 읽기\n",
        "def read_text(file_path, encoding=\"utf-8\"):\n",
        "    text = None\n",
        "    with open(file_path, 'r', encoding=encoding) as f:\n",
        "        text = f.read()\n",
        "    return text"
      ],
      "metadata": {
        "id": "f1jHQ4NlLqU2"
      },
      "execution_count": 13,
      "outputs": []
    },
    {
      "cell_type": "code",
      "source": [
        "def load_json(json_path, encoding=\"utf-8\"):\n",
        "    return json.loads(read_text(json_path, encoding))"
      ],
      "metadata": {
        "id": "uyAz7GViLqU2"
      },
      "execution_count": 14,
      "outputs": []
    },
    {
      "cell_type": "markdown",
      "source": [
        "### setup image dataframe"
      ],
      "metadata": {
        "id": "IeWEe5Y3wLim"
      }
    },
    {
      "cell_type": "code",
      "source": [
        "def make_df(dataset_path, direction):\n",
        "    base_path = os.path.join(dataset_path, direction)\n",
        "    img_path = []\n",
        "    brand = []\n",
        "    model = []\n",
        "    for files in os.listdir(base_path):\n",
        "        if os.path.splitext(files)[1] == '.json':\n",
        "            tmp_json = load_json(os.path.join(base_path, files))\n",
        "            img_path.append(os.path.join(base_path, tmp_json['sourceDataInfo']['sourceDataID']+'.jpg'))\n",
        "            brand.append(tmp_json['rawDataInfo']['MediumCategoryId'])\n",
        "            model.append(tmp_json['rawDataInfo']['SmallCategoryId'])\n",
        "\n",
        "    data = {\n",
        "        'img_path':img_path,\n",
        "        'brand':brand,\n",
        "        'model':model\n",
        "    }\n",
        "    df = pd.DataFrame(data)\n",
        "    return df"
      ],
      "metadata": {
        "id": "I9L_n1GYFJ0b"
      },
      "execution_count": 15,
      "outputs": []
    },
    {
      "cell_type": "code",
      "source": [
        "base_dir = '/content/drive/MyDrive/Car-model-classification/data/cropimg'\n",
        "train_val_dir = os.path.join(base_dir, 'train_val')\n",
        "test_dir = os.path.join(base_dir, 'test')"
      ],
      "metadata": {
        "id": "3ydLb3tB_qQT"
      },
      "execution_count": 16,
      "outputs": []
    },
    {
      "cell_type": "code",
      "source": [
        "# Setup the front Image df\n",
        "train_val_front_df = make_df(train_val_dir, 'car_front')\n",
        "test_front_df = make_df(test_dir, 'car_front')\n",
        "\n",
        "# Setup the side Image df\n",
        "train_val_side_df = make_df(train_val_dir, 'car_side')\n",
        "test_side_df = make_df(test_dir, 'car_side')\n",
        "\n",
        "# Setup the back Image df\n",
        "train_val_back_df = make_df(train_val_dir, 'car_back')\n",
        "test_back_df = make_df(test_dir, 'car_back')"
      ],
      "metadata": {
        "id": "6JYD9KIZAfcG"
      },
      "execution_count": 17,
      "outputs": []
    },
    {
      "cell_type": "markdown",
      "source": [
        "### split train, validation dataframe"
      ],
      "metadata": {
        "id": "TFxV5tD0wSdN"
      }
    },
    {
      "cell_type": "code",
      "source": [
        "# 각 차량 모델별 20%를 추출해 val_df로\n",
        "def split_df(train_val_df):\n",
        "    val_df = pd.DataFrame()\n",
        "    for model in list(train_val_df['model'].unique()):\n",
        "        sample_df = train_val_df[train_val_df['model'] == model].sample(frac=0.2)\n",
        "        val_df = pd.concat([val_df, sample_df], ignore_index=True)\n",
        "\n",
        "    train_df = pd.concat([train_val_df, val_df, val_df]).drop_duplicates(keep=False).reset_index()\n",
        "    return train_df, val_df"
      ],
      "metadata": {
        "id": "17a71zyWdqpY"
      },
      "execution_count": 18,
      "outputs": []
    },
    {
      "cell_type": "code",
      "source": [
        "# split train, val\n",
        "train_front_df, val_front_df = split_df(train_val_front_df)\n",
        "train_side_df, val_side_df = split_df(train_val_side_df)\n",
        "train_back_df, val_back_df = split_df(train_val_back_df)"
      ],
      "metadata": {
        "id": "27TpY1m9jQTi"
      },
      "execution_count": 19,
      "outputs": []
    },
    {
      "cell_type": "code",
      "source": [
        "print(len(train_front_df))\n",
        "print(len(val_front_df))\n",
        "print(len(test_front_df))\n",
        "print()\n",
        "\n",
        "print(len(train_side_df))\n",
        "print(len(val_side_df))\n",
        "print(len(test_side_df))\n",
        "print()\n",
        "\n",
        "print(len(train_back_df))\n",
        "print(len(val_back_df))\n",
        "print(len(test_back_df))"
      ],
      "metadata": {
        "id": "pSWTNsW2P-lx",
        "colab": {
          "base_uri": "https://localhost:8080/"
        },
        "outputId": "99e4cd13-8342-4e90-cbd3-df707b6c0b84"
      },
      "execution_count": 20,
      "outputs": [
        {
          "output_type": "stream",
          "name": "stdout",
          "text": [
            "5830\n",
            "1459\n",
            "877\n",
            "\n",
            "5336\n",
            "1335\n",
            "887\n",
            "\n",
            "5116\n",
            "1277\n",
            "835\n"
          ]
        }
      ]
    },
    {
      "cell_type": "markdown",
      "source": [
        "## image dataset"
      ],
      "metadata": {
        "id": "iZv8QBEowe5g"
      }
    },
    {
      "cell_type": "markdown",
      "source": [
        "ImageDataGenerator  \n",
        "* rotation_range : 이미지회전값  \n",
        "* zoom_range : 이미지일부확대  \n",
        "* shear_range : 이미지기울기  \n",
        "* width_shift_range : 좌우이동  \n",
        "* height_shift_range : 상하이동  \n",
        "* horizontal_flip : 이미지가로뒤집기  \n",
        "* vertical_filp : 이미지세로뒤집기"
      ],
      "metadata": {
        "id": "sjYHpiQWAsrP"
      }
    },
    {
      "cell_type": "code",
      "source": [
        "def generate_dataset(train_df, val_df, test_df):\n",
        "    train_generator = ImageDataGenerator(rescale = 1./300.,\n",
        "                                    rotation_range = 45,\n",
        "                                    width_shift_range = 0.2,\n",
        "                                    height_shift_range = 0.2,\n",
        "                                    shear_range = 0.2,\n",
        "                                    zoom_range = 0.2,\n",
        "                                    horizontal_flip = True)\n",
        "\n",
        "    test_generator = ImageDataGenerator(rescale = 1./300.)\n",
        "\n",
        "    train_images = train_generator.flow_from_dataframe(\n",
        "        dataframe=train_df,\n",
        "        x_col='img_path',\n",
        "        y_col='model',\n",
        "        target_size=(width,height),\n",
        "        color_mode='rgb',\n",
        "        class_mode='categorical',\n",
        "        batch_size=batch_size,\n",
        "        shuffle=True\n",
        "    )\n",
        "\n",
        "    val_images = train_generator.flow_from_dataframe(\n",
        "        dataframe=val_df,\n",
        "        x_col='img_path',\n",
        "        y_col='model',\n",
        "        target_size=(width,height),\n",
        "        color_mode='rgb',\n",
        "        class_mode='categorical',\n",
        "        batch_size=batch_size,\n",
        "        shuffle=True\n",
        "    )\n",
        "\n",
        "    test_images = test_generator.flow_from_dataframe(\n",
        "        dataframe=test_df,\n",
        "        x_col='img_path',\n",
        "        y_col='model',\n",
        "        target_size=(width,height),\n",
        "        color_mode='rgb',\n",
        "        class_mode='categorical',\n",
        "        batch_size=batch_size,\n",
        "        shuffle=False\n",
        "    )\n",
        "    return train_images, val_images, test_images"
      ],
      "metadata": {
        "id": "FYht_qpdw5Rn"
      },
      "execution_count": 21,
      "outputs": []
    },
    {
      "cell_type": "code",
      "source": [
        "train_front_images, val_front_images, test_front_images = generate_dataset(train_front_df, val_front_df, test_front_df)\n",
        "train_side_images, val_side_images, test_side_images = generate_dataset(train_side_df, val_side_df, test_side_df)\n",
        "train_back_images, val_back_images, test_back_images = generate_dataset(train_back_df, val_back_df, test_back_df)"
      ],
      "metadata": {
        "id": "YHBDEl3_xY6n",
        "colab": {
          "base_uri": "https://localhost:8080/"
        },
        "outputId": "f3e35f05-9612-4751-f6a7-493471c79b0e"
      },
      "execution_count": 22,
      "outputs": [
        {
          "output_type": "stream",
          "name": "stdout",
          "text": [
            "Found 5830 validated image filenames belonging to 16 classes.\n",
            "Found 1459 validated image filenames belonging to 16 classes.\n",
            "Found 877 validated image filenames belonging to 16 classes.\n",
            "Found 5336 validated image filenames belonging to 16 classes.\n",
            "Found 1335 validated image filenames belonging to 16 classes.\n",
            "Found 887 validated image filenames belonging to 16 classes.\n",
            "Found 5116 validated image filenames belonging to 16 classes.\n",
            "Found 1277 validated image filenames belonging to 16 classes.\n",
            "Found 835 validated image filenames belonging to 16 classes.\n"
          ]
        }
      ]
    },
    {
      "cell_type": "markdown",
      "source": [
        "# Front car images"
      ],
      "metadata": {
        "id": "O-mjtXrqyvPI"
      }
    },
    {
      "cell_type": "markdown",
      "metadata": {
        "id": "oO7kxxRaMC2q"
      },
      "source": [
        "## load the conv base model(efficientNetB3)"
      ]
    },
    {
      "cell_type": "code",
      "source": [
        "base_model = efn.EfficientNetB3(input_shape = (224, 224, 3),\n",
        "                                include_top = False, weights = 'imagenet')"
      ],
      "metadata": {
        "id": "rwYB9qMXCO1b"
      },
      "execution_count": 36,
      "outputs": []
    },
    {
      "cell_type": "code",
      "metadata": {
        "id": "lgjoz26l-HfD"
      },
      "source": [
        "model = models.Sequential()\n",
        "model.add(base_model)\n",
        "model.add(layers.GlobalMaxPooling2D(name=\"gap\")) # 최대값을 뽑아내서 overfitting 회피\n",
        "# model.add(layers.Flatten(name=\"flatten\"))\n",
        "if dropout_rate > 0:\n",
        "    model.add(layers.Dropout(dropout_rate, name=\"dropout_out\")) # 비율로 연결을 끊어 overfitting 회피\n",
        "# model.add(layers.Dense(256, activation='relu', name=\"fc1\"))\n",
        "model.add(layers.Dense(16, activation='softmax', name=\"fc_out\")) # 결과"
      ],
      "execution_count": 37,
      "outputs": []
    },
    {
      "cell_type": "code",
      "metadata": {
        "id": "4iAX7AegDHUS",
        "outputId": "29a442e8-7b27-467f-8bd9-41b410578678",
        "colab": {
          "base_uri": "https://localhost:8080/"
        }
      },
      "source": [
        "model.summary()"
      ],
      "execution_count": 38,
      "outputs": [
        {
          "output_type": "stream",
          "name": "stdout",
          "text": [
            "Model: \"sequential_1\"\n",
            "_________________________________________________________________\n",
            " Layer (type)                Output Shape              Param #   \n",
            "=================================================================\n",
            " efficientnet-b3 (Functional  (None, 7, 7, 1536)       10783528  \n",
            " )                                                               \n",
            "                                                                 \n",
            " gap (GlobalMaxPooling2D)    (None, 1536)              0         \n",
            "                                                                 \n",
            " dropout_out (Dropout)       (None, 1536)              0         \n",
            "                                                                 \n",
            " fc_out (Dense)              (None, 16)                24592     \n",
            "                                                                 \n",
            "=================================================================\n",
            "Total params: 10,808,120\n",
            "Trainable params: 10,720,824\n",
            "Non-trainable params: 87,296\n",
            "_________________________________________________________________\n"
          ]
        }
      ]
    },
    {
      "cell_type": "code",
      "metadata": {
        "id": "_N-F9Z-uDJAi",
        "outputId": "c1b0db1d-bfe4-4edb-a7f5-f6cd263dccc3",
        "colab": {
          "base_uri": "https://localhost:8080/"
        }
      },
      "source": [
        "print('This is the number of trainable layers '\n",
        "      'before freezing the conv base:', len(model.trainable_weights))\n",
        "\n",
        "base_model.trainable = False\n",
        "\n",
        "print('This is the number of trainable layers '\n",
        "      'after freezing the conv base:', len(model.trainable_weights))"
      ],
      "execution_count": 39,
      "outputs": [
        {
          "output_type": "stream",
          "name": "stdout",
          "text": [
            "This is the number of trainable layers before freezing the conv base: 340\n",
            "This is the number of trainable layers after freezing the conv base: 2\n"
          ]
        }
      ]
    },
    {
      "cell_type": "code",
      "metadata": {
        "id": "SJHDUrjw2wRG",
        "colab": {
          "base_uri": "https://localhost:8080/"
        },
        "outputId": "73b3876b-3b5d-4ba7-a5b9-fa2a4af611d6"
      },
      "source": [
        "model.compile(loss='categorical_crossentropy',\n",
        "              optimizer=RMSprop(lr=2e-5),\n",
        "              metrics=['acc'])\n",
        "\n",
        "history = model.fit_generator(\n",
        "      train_front_images,\n",
        "      epochs=epochs,\n",
        "      validation_data=val_front_images,\n",
        "      verbose=1,\n",
        "      use_multiprocessing=True)"
      ],
      "execution_count": 40,
      "outputs": [
        {
          "output_type": "stream",
          "name": "stderr",
          "text": [
            "/usr/local/lib/python3.8/dist-packages/keras/optimizers/optimizer_v2/rmsprop.py:135: UserWarning: The `lr` argument is deprecated, use `learning_rate` instead.\n",
            "  super(RMSprop, self).__init__(name, **kwargs)\n",
            "<ipython-input-40-209ce762744d>:5: UserWarning: `Model.fit_generator` is deprecated and will be removed in a future version. Please use `Model.fit`, which supports generators.\n",
            "  history = model.fit_generator(\n"
          ]
        },
        {
          "output_type": "stream",
          "name": "stdout",
          "text": [
            "Epoch 1/20\n",
            "122/122 [==============================] - 259s 2s/step - loss: 9.1425 - acc: 0.0695 - val_loss: 5.3525 - val_acc: 0.1062\n",
            "Epoch 2/20\n",
            "122/122 [==============================] - 247s 2s/step - loss: 7.6080 - acc: 0.0928 - val_loss: 4.9167 - val_acc: 0.1062\n",
            "Epoch 3/20\n",
            "122/122 [==============================] - 248s 2s/step - loss: 7.1939 - acc: 0.0997 - val_loss: 4.4997 - val_acc: 0.1302\n",
            "Epoch 4/20\n",
            "122/122 [==============================] - 247s 2s/step - loss: 6.9417 - acc: 0.1053 - val_loss: 4.1883 - val_acc: 0.1357\n",
            "Epoch 5/20\n",
            "122/122 [==============================] - 249s 2s/step - loss: 6.5416 - acc: 0.1218 - val_loss: 4.0022 - val_acc: 0.1419\n",
            "Epoch 6/20\n",
            "122/122 [==============================] - 241s 2s/step - loss: 6.4197 - acc: 0.1221 - val_loss: 3.7844 - val_acc: 0.1666\n",
            "Epoch 7/20\n",
            "122/122 [==============================] - 245s 2s/step - loss: 6.2095 - acc: 0.1312 - val_loss: 3.7792 - val_acc: 0.1734\n",
            "Epoch 8/20\n",
            "122/122 [==============================] - 237s 2s/step - loss: 6.0422 - acc: 0.1355 - val_loss: 3.4675 - val_acc: 0.1885\n",
            "Epoch 9/20\n",
            "122/122 [==============================] - 247s 2s/step - loss: 5.9503 - acc: 0.1458 - val_loss: 3.4751 - val_acc: 0.1995\n",
            "Epoch 10/20\n",
            "122/122 [==============================] - 263s 2s/step - loss: 5.7939 - acc: 0.1473 - val_loss: 3.2314 - val_acc: 0.2276\n",
            "Epoch 11/20\n",
            "122/122 [==============================] - 257s 2s/step - loss: 5.7888 - acc: 0.1516 - val_loss: 3.2213 - val_acc: 0.2186\n",
            "Epoch 12/20\n",
            "122/122 [==============================] - 250s 2s/step - loss: 5.6649 - acc: 0.1571 - val_loss: 3.1486 - val_acc: 0.2467\n",
            "Epoch 13/20\n",
            "122/122 [==============================] - 250s 2s/step - loss: 5.4784 - acc: 0.1679 - val_loss: 3.0892 - val_acc: 0.2522\n",
            "Epoch 14/20\n",
            "122/122 [==============================] - 249s 2s/step - loss: 5.5215 - acc: 0.1657 - val_loss: 3.0409 - val_acc: 0.2454\n",
            "Epoch 15/20\n",
            "122/122 [==============================] - 239s 2s/step - loss: 5.2625 - acc: 0.1871 - val_loss: 2.8450 - val_acc: 0.2673\n",
            "Epoch 16/20\n",
            "122/122 [==============================] - 236s 2s/step - loss: 5.2077 - acc: 0.1847 - val_loss: 2.8758 - val_acc: 0.2755\n",
            "Epoch 17/20\n",
            "122/122 [==============================] - 233s 2s/step - loss: 5.2264 - acc: 0.1863 - val_loss: 2.7867 - val_acc: 0.2838\n",
            "Epoch 18/20\n",
            "122/122 [==============================] - 240s 2s/step - loss: 5.0924 - acc: 0.1889 - val_loss: 2.8059 - val_acc: 0.2694\n",
            "Epoch 19/20\n",
            "122/122 [==============================] - 255s 2s/step - loss: 5.0560 - acc: 0.1973 - val_loss: 2.8167 - val_acc: 0.2940\n",
            "Epoch 20/20\n",
            "122/122 [==============================] - 243s 2s/step - loss: 4.9429 - acc: 0.2050 - val_loss: 2.6500 - val_acc: 0.2934\n"
          ]
        }
      ]
    },
    {
      "cell_type": "markdown",
      "source": [
        "### Results"
      ],
      "metadata": {
        "id": "JcxHApXndS_o"
      }
    },
    {
      "cell_type": "code",
      "metadata": {
        "id": "i90iKXuL3CHT",
        "colab": {
          "base_uri": "https://localhost:8080/",
          "height": 543
        },
        "outputId": "08e3525e-45f6-4ce7-9be0-8f7e5d95c5c8"
      },
      "source": [
        "# 학습 결과\n",
        "acc = history.history['acc']\n",
        "val_acc = history.history['val_acc']\n",
        "loss = history.history['loss']\n",
        "val_loss = history.history['val_loss']\n",
        "\n",
        "epochs_x = range(len(acc))\n",
        "\n",
        "plt.plot(epochs_x, acc, 'bo', label='Training acc')\n",
        "plt.plot(epochs_x, val_acc, 'b', label='Validation acc')\n",
        "plt.title('Training and validation accuracy')\n",
        "plt.legend()\n",
        "\n",
        "plt.figure()\n",
        "\n",
        "plt.plot(epochs_x, loss, 'bo', label='Training loss')\n",
        "plt.plot(epochs_x, val_loss, 'b', label='Validation loss')\n",
        "plt.title('Training and validation loss')\n",
        "plt.legend()\n",
        "\n",
        "plt.show()"
      ],
      "execution_count": 41,
      "outputs": [
        {
          "output_type": "display_data",
          "data": {
            "text/plain": [
              "<Figure size 432x288 with 1 Axes>"
            ],
            "image/png": "[encoded data removed]"
          },
          "metadata": {
            "needs_background": "light"
          }
        },
        {
          "output_type": "display_data",
          "data": {
            "text/plain": [
              "<Figure size 432x288 with 1 Axes>"
            ],
            "image/png": "[encoded data removed]"
          },
          "metadata": {
            "needs_background": "light"
          }
        }
      ]
    },
    {
      "cell_type": "code",
      "source": [
        "# test image set 결과\n",
        "results = model.evaluate(test_front_images, verbose=0)\n",
        "print(\"Test Accuracy: {:.2f}%\".format(results[1] * 100))"
      ],
      "metadata": {
        "colab": {
          "base_uri": "https://localhost:8080/"
        },
        "id": "CBDQwZ-HdjaT",
        "outputId": "bead84ff-080e-47f8-e0ba-635ab8c9846a"
      },
      "execution_count": 42,
      "outputs": [
        {
          "output_type": "stream",
          "name": "stdout",
          "text": [
            "Test Accuracy: 27.37%\n"
          ]
        }
      ]
    },
    {
      "cell_type": "markdown",
      "source": [
        "### Heatmap\n",
        "실제 label과 해당 사진을 모델이 예측한 결과"
      ],
      "metadata": {
        "id": "wozrIyDAeYhs"
      }
    },
    {
      "cell_type": "code",
      "source": [
        "# 한글폰트 설치\n",
        "# !sudo apt-get install -y fonts-nanum\n",
        "# !sudo fc-cache -fv\n",
        "# !rm ~/.cache/matplotlib -rf"
      ],
      "metadata": {
        "id": "57tXA_Qrfejb"
      },
      "execution_count": null,
      "outputs": []
    },
    {
      "cell_type": "code",
      "source": [
        "# 한글폰트 지정\n",
        "plt.rc('font', family='NanumBarunGothic')"
      ],
      "metadata": {
        "id": "kPswiXN0gVon"
      },
      "execution_count": 44,
      "outputs": []
    },
    {
      "cell_type": "code",
      "source": [
        "import seaborn as sns\n",
        "import numpy as np\n",
        "from sklearn.metrics import confusion_matrix, classification_report"
      ],
      "metadata": {
        "id": "-oMQla9zemQr"
      },
      "execution_count": 45,
      "outputs": []
    },
    {
      "cell_type": "code",
      "source": [
        "predictions = np.argmax(model.predict(test_front_images), axis=1)\n",
        "\n",
        "cm = confusion_matrix(test_front_images.labels, predictions)"
      ],
      "metadata": {
        "colab": {
          "base_uri": "https://localhost:8080/"
        },
        "id": "4y3SuseaeS46",
        "outputId": "12637af8-8a88-416e-ab8a-d7e49f84cca3"
      },
      "execution_count": 46,
      "outputs": [
        {
          "output_type": "stream",
          "name": "stdout",
          "text": [
            "19/19 [==============================] - 10s 399ms/step\n"
          ]
        }
      ]
    },
    {
      "cell_type": "code",
      "source": [
        "plt.figure(figsize=(30, 30))\n",
        "sns.heatmap(cm, annot=True, fmt='g', vmin=0, cmap='Blues', cbar=False)\n",
        "plt.xticks(ticks=np.arange(16) + 0.5, labels=test_front_images.class_indices, rotation=90)\n",
        "plt.yticks(ticks=np.arange(16) + 0.5, labels=test_front_images.class_indices, rotation=0)\n",
        "plt.xlabel(\"Predicted\")\n",
        "plt.ylabel(\"Actual\")\n",
        "plt.title(\"Confusion Matrix\")\n",
        "plt.show()"
      ],
      "metadata": {
        "colab": {
          "base_uri": "https://localhost:8080/",
          "height": 1000
        },
        "id": "rcitEwAreW0e",
        "outputId": "1058693e-5bf7-4bfa-a965-1b8062b6416d"
      },
      "execution_count": 47,
      "outputs": [
        {
          "output_type": "display_data",
          "data": {
            "text/plain": [
              "<Figure size 2160x2160 with 1 Axes>"
            ],
            "image/png": "[encoded data removed]"
          },
          "metadata": {
            "needs_background": "light"
          }
        }
      ]
    },
    {
      "cell_type": "markdown",
      "metadata": {
        "id": "4gRv7SwYqT9f"
      },
      "source": [
        "## Fine tuning last several layers."
      ]
    },
    {
      "cell_type": "code",
      "metadata": {
        "id": "yKI8AJxQVB1Q"
      },
      "source": [
        "# multiply_16\n",
        "# set 'multiply_16' and following layers trainable\n",
        "base_model.trainable = True\n",
        "\n",
        "set_trainable = False\n",
        "for layer in base_model.layers:\n",
        "    if layer.name == 'multiply_16':\n",
        "        set_trainable = True\n",
        "    if set_trainable:\n",
        "        layer.trainable = True\n",
        "    else:\n",
        "        layer.trainable = False"
      ],
      "execution_count": 26,
      "outputs": []
    },
    {
      "cell_type": "code",
      "metadata": {
        "id": "FMjt8tCcDOoC",
        "colab": {
          "base_uri": "https://localhost:8080/"
        },
        "outputId": "432eb754-9e6e-4c7e-b859-67d459596633"
      },
      "source": [
        "model.compile(loss='categorical_crossentropy',\n",
        "              optimizer=RMSprop(lr=2e-5),\n",
        "              metrics=['acc'])\n",
        "\n",
        "history = model.fit_generator(\n",
        "      train_front_images,\n",
        "      epochs=epochs,\n",
        "      validation_data=val_front_images,\n",
        "      verbose=1,\n",
        "      use_multiprocessing=True)"
      ],
      "execution_count": 27,
      "outputs": [
        {
          "output_type": "stream",
          "name": "stderr",
          "text": [
            "/usr/local/lib/python3.8/dist-packages/keras/optimizers/optimizer_v2/rmsprop.py:135: UserWarning: The `lr` argument is deprecated, use `learning_rate` instead.\n",
            "  super(RMSprop, self).__init__(name, **kwargs)\n",
            "<ipython-input-27-209ce762744d>:5: UserWarning: `Model.fit_generator` is deprecated and will be removed in a future version. Please use `Model.fit`, which supports generators.\n",
            "  history = model.fit_generator(\n"
          ]
        },
        {
          "output_type": "stream",
          "name": "stdout",
          "text": [
            "Epoch 1/20\n",
            "122/122 [==============================] - 267s 2s/step - loss: 8.3439 - acc: 0.0911 - val_loss: 5.3109 - val_acc: 0.1042\n",
            "Epoch 2/20\n",
            "122/122 [==============================] - 249s 2s/step - loss: 7.5892 - acc: 0.0938 - val_loss: 4.8557 - val_acc: 0.0987\n",
            "Epoch 3/20\n",
            "122/122 [==============================] - 249s 2s/step - loss: 7.2322 - acc: 0.1098 - val_loss: 4.5692 - val_acc: 0.1206\n",
            "Epoch 4/20\n",
            "122/122 [==============================] - 250s 2s/step - loss: 6.9488 - acc: 0.1091 - val_loss: 4.1799 - val_acc: 0.1391\n",
            "Epoch 5/20\n",
            "122/122 [==============================] - 249s 2s/step - loss: 6.6952 - acc: 0.1139 - val_loss: 4.0148 - val_acc: 0.1364\n",
            "Epoch 6/20\n",
            "122/122 [==============================] - 250s 2s/step - loss: 6.6377 - acc: 0.1249 - val_loss: 3.9212 - val_acc: 0.1556\n",
            "Epoch 7/20\n",
            "122/122 [==============================] - 247s 2s/step - loss: 6.2493 - acc: 0.1350 - val_loss: 3.7091 - val_acc: 0.1885\n",
            "Epoch 8/20\n",
            "122/122 [==============================] - 250s 2s/step - loss: 6.1139 - acc: 0.1456 - val_loss: 3.5778 - val_acc: 0.1878\n",
            "Epoch 9/20\n",
            "122/122 [==============================] - 246s 2s/step - loss: 6.0164 - acc: 0.1389 - val_loss: 3.5590 - val_acc: 0.1926\n",
            "Epoch 10/20\n",
            "122/122 [==============================] - 255s 2s/step - loss: 5.9570 - acc: 0.1377 - val_loss: 3.4044 - val_acc: 0.2049\n",
            "Epoch 11/20\n",
            "122/122 [==============================] - 253s 2s/step - loss: 5.7392 - acc: 0.1581 - val_loss: 3.2950 - val_acc: 0.2111\n",
            "Epoch 12/20\n",
            "122/122 [==============================] - 245s 2s/step - loss: 5.6471 - acc: 0.1605 - val_loss: 3.2472 - val_acc: 0.2365\n",
            "Epoch 13/20\n",
            "122/122 [==============================] - 247s 2s/step - loss: 5.5115 - acc: 0.1707 - val_loss: 3.1266 - val_acc: 0.2324\n",
            "Epoch 14/20\n",
            "122/122 [==============================] - 254s 2s/step - loss: 5.5275 - acc: 0.1705 - val_loss: 3.1789 - val_acc: 0.2406\n",
            "Epoch 15/20\n",
            "122/122 [==============================] - 253s 2s/step - loss: 5.4353 - acc: 0.1683 - val_loss: 3.0627 - val_acc: 0.2598\n",
            "Epoch 16/20\n",
            "122/122 [==============================] - 249s 2s/step - loss: 5.3816 - acc: 0.1727 - val_loss: 2.9882 - val_acc: 0.2666\n",
            "Epoch 17/20\n",
            "122/122 [==============================] - 245s 2s/step - loss: 5.1682 - acc: 0.1925 - val_loss: 2.9263 - val_acc: 0.2536\n",
            "Epoch 18/20\n",
            "122/122 [==============================] - 252s 2s/step - loss: 5.2699 - acc: 0.1889 - val_loss: 2.9589 - val_acc: 0.2714\n",
            "Epoch 19/20\n",
            "122/122 [==============================] - 241s 2s/step - loss: 5.0803 - acc: 0.1923 - val_loss: 2.8531 - val_acc: 0.2872\n",
            "Epoch 20/20\n",
            "122/122 [==============================] - 243s 2s/step - loss: 5.0135 - acc: 0.1952 - val_loss: 2.8735 - val_acc: 0.2803\n"
          ]
        }
      ]
    },
    {
      "cell_type": "code",
      "metadata": {
        "id": "HvVt5TwoEDz6"
      },
      "source": [
        "# save model\n",
        "model.save('/content/drive/MyDrive/Car-model-classification/models/car_model1.h5')"
      ],
      "execution_count": 28,
      "outputs": []
    },
    {
      "cell_type": "markdown",
      "source": [
        "### Results"
      ],
      "metadata": {
        "id": "vBy_4P4nhWmI"
      }
    },
    {
      "cell_type": "code",
      "metadata": {
        "colab": {
          "base_uri": "https://localhost:8080/",
          "height": 543
        },
        "outputId": "53faf284-05cd-462a-c03e-f2cd90dd2084",
        "id": "LWB8fTUahWmI"
      },
      "source": [
        "# 학습 결과\n",
        "acc = history.history['acc']\n",
        "val_acc = history.history['val_acc']\n",
        "loss = history.history['loss']\n",
        "val_loss = history.history['val_loss']\n",
        "\n",
        "epochs_x = range(len(acc))\n",
        "\n",
        "plt.plot(epochs_x, acc, 'bo', label='Training acc')\n",
        "plt.plot(epochs_x, val_acc, 'b', label='Validation acc')\n",
        "plt.title('Training and validation accuracy')\n",
        "plt.legend()\n",
        "\n",
        "plt.figure()\n",
        "\n",
        "plt.plot(epochs_x, loss, 'bo', label='Training loss')\n",
        "plt.plot(epochs_x, val_loss, 'b', label='Validation loss')\n",
        "plt.title('Training and validation loss')\n",
        "plt.legend()\n",
        "\n",
        "plt.show()"
      ],
      "execution_count": 29,
      "outputs": [
        {
          "output_type": "display_data",
          "data": {
            "text/plain": [
              "<Figure size 432x288 with 1 Axes>"
            ],
            "image/png": "[encoded data removed]"
          },
          "metadata": {
            "needs_background": "light"
          }
        },
        {
          "output_type": "display_data",
          "data": {
            "text/plain": [
              "<Figure size 432x288 with 1 Axes>"
            ],
            "image/png": "[encoded data removed]"
          },
          "metadata": {
            "needs_background": "light"
          }
        }
      ]
    },
    {
      "cell_type": "code",
      "source": [
        "# test image set 결과\n",
        "results = model.evaluate(test_front_images, verbose=0)\n",
        "print(\"Test Accuracy: {:.2f}%\".format(results[1] * 100))"
      ],
      "metadata": {
        "colab": {
          "base_uri": "https://localhost:8080/"
        },
        "outputId": "a9fb9a71-0dd5-4c37-df41-946dcf5f14b2",
        "id": "6ICjMzYGhWmI"
      },
      "execution_count": 30,
      "outputs": [
        {
          "output_type": "stream",
          "name": "stdout",
          "text": [
            "Test Accuracy: 29.30%\n"
          ]
        }
      ]
    },
    {
      "cell_type": "markdown",
      "source": [
        "### Heatmap\n",
        "실제 label과 해당 사진을 모델이 예측한 결과"
      ],
      "metadata": {
        "id": "C8nUS0HxhWmI"
      }
    },
    {
      "cell_type": "code",
      "source": [
        "# 한글폰트 설치\n",
        "# !sudo apt-get install -y fonts-nanum\n",
        "# !sudo fc-cache -fv\n",
        "# !rm ~/.cache/matplotlib -rf"
      ],
      "metadata": {
        "id": "RL2Jr09ZhWmI"
      },
      "execution_count": 31,
      "outputs": []
    },
    {
      "cell_type": "code",
      "source": [
        "# 한글폰트 지정\n",
        "plt.rc('font', family='NanumBarunGothic')"
      ],
      "metadata": {
        "id": "Og_sZpg4hWmI"
      },
      "execution_count": 32,
      "outputs": []
    },
    {
      "cell_type": "code",
      "source": [
        "import seaborn as sns\n",
        "import numpy as np\n",
        "from sklearn.metrics import confusion_matrix, classification_report"
      ],
      "metadata": {
        "id": "A1HIygmNhWmI"
      },
      "execution_count": 33,
      "outputs": []
    },
    {
      "cell_type": "code",
      "source": [
        "predictions = np.argmax(model.predict(test_front_images), axis=1)\n",
        "\n",
        "cm = confusion_matrix(test_front_images.labels, predictions)"
      ],
      "metadata": {
        "colab": {
          "base_uri": "https://localhost:8080/"
        },
        "id": "1yj2qVpYhWmI",
        "outputId": "3b2faa83-05d5-443a-c645-02fa1f5bb786"
      },
      "execution_count": 34,
      "outputs": [
        {
          "output_type": "stream",
          "name": "stdout",
          "text": [
            "19/19 [==============================] - 11s 424ms/step\n"
          ]
        }
      ]
    },
    {
      "cell_type": "code",
      "source": [
        "plt.figure(figsize=(30, 30))\n",
        "sns.heatmap(cm, annot=True, fmt='g', vmin=0, cmap='Blues', cbar=False)\n",
        "plt.xticks(ticks=np.arange(16) + 0.5, labels=test_front_images.class_indices, rotation=90)\n",
        "plt.yticks(ticks=np.arange(16) + 0.5, labels=test_front_images.class_indices, rotation=0)\n",
        "plt.xlabel(\"Predicted\")\n",
        "plt.ylabel(\"Actual\")\n",
        "plt.title(\"Confusion Matrix\")\n",
        "plt.show()"
      ],
      "metadata": {
        "colab": {
          "base_uri": "https://localhost:8080/",
          "height": 1000
        },
        "id": "tnpAPXz8hWmI",
        "outputId": "36bc49cd-5293-44e8-b04c-d584fe49c058"
      },
      "execution_count": 35,
      "outputs": [
        {
          "output_type": "display_data",
          "data": {
            "text/plain": [
              "<Figure size 2160x2160 with 1 Axes>"
            ],
            "image/png": "[encoded data removed]"
          },
          "metadata": {
            "needs_background": "light"
          }
        }
      ]
    },
    {
      "cell_type": "code",
      "source": [],
      "metadata": {
        "id": "zwLFzlQimq3a"
      },
      "execution_count": null,
      "outputs": []
    }
  ]
}